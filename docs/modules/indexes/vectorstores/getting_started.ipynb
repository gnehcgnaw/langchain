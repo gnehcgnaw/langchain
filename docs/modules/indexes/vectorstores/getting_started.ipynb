{
 "cells": [
  {
   "cell_type": "markdown",
   "id": "7ef4d402-6662-4a26-b612-35b542066487",
   "metadata": {
    "pycharm": {
     "name": "#%% md\n"
    }
   },
   "source": [
    "#  Getting Started\n",
    "\n",
    "This notebook showcases basic functionality related to VectorStores. A key part of working with vectorstores is creating the vector to put in them, which is usually created via embeddings. Therefore, it is recommended that you familiarize yourself with the [embedding notebook](../../models/text_embedding.htpl) before diving into this.\n",
    "\n",
    "This covers generic high level functionality related to all vector stores."
   ]
  },
  {
   "cell_type": "code",
   "execution_count": 3,
   "id": "965eecee",
   "metadata": {
    "pycharm": {
     "name": "#%%\n"
    },
    "ExecuteTime": {
     "end_time": "2023-05-01T13:29:39.009066Z",
     "start_time": "2023-05-01T13:29:38.999272Z"
    }
   },
   "outputs": [],
   "source": [
    "from langchain.embeddings.openai import OpenAIEmbeddings\n",
    "from langchain.text_splitter import CharacterTextSplitter\n",
    "from langchain.vectorstores import Chroma"
   ]
  },
  {
   "cell_type": "code",
   "execution_count": null,
   "outputs": [],
   "source": [
    "# !pip install chromadb\n",
    "# chromadb currently does not support Python 3.11 because of pytorch"
   ],
   "metadata": {
    "collapsed": false
   }
  },
  {
   "cell_type": "code",
   "execution_count": 5,
   "id": "68481687",
   "metadata": {
    "pycharm": {
     "name": "#%%\n"
    },
    "ExecuteTime": {
     "end_time": "2023-05-01T13:30:12.791124Z",
     "start_time": "2023-05-01T13:30:12.761957Z"
    }
   },
   "outputs": [],
   "source": [
    "with open('../../state_of_the_union.txt') as f:\n",
    "    state_of_the_union = f.read()\n",
    "text_splitter = CharacterTextSplitter(chunk_size=1000, chunk_overlap=0)\n",
    "texts = text_splitter.split_text(state_of_the_union)\n",
    "\n",
    "embeddings = OpenAIEmbeddings()"
   ]
  },
  {
   "cell_type": "code",
   "execution_count": 7,
   "id": "015f4ff5",
   "metadata": {
    "pycharm": {
     "name": "#%%\n"
    },
    "ExecuteTime": {
     "end_time": "2023-05-01T13:31:14.997066Z",
     "start_time": "2023-05-01T13:31:10.518419Z"
    }
   },
   "outputs": [
    {
     "name": "stderr",
     "output_type": "stream",
     "text": [
      "Using embedded DuckDB without persistence: data will be transient\n"
     ]
    }
   ],
   "source": [
    "docsearch = Chroma.from_texts(texts, embeddings)\n",
    "\n",
    "query = \"What did the president say about Ketanji Brown Jackson\"\n",
    "docs = docsearch.similarity_search(query)"
   ]
  },
  {
   "cell_type": "code",
   "execution_count": 8,
   "id": "67baf32e",
   "metadata": {
    "pycharm": {
     "name": "#%%\n"
    },
    "ExecuteTime": {
     "end_time": "2023-05-01T13:31:18.258192Z",
     "start_time": "2023-05-01T13:31:18.250766Z"
    }
   },
   "outputs": [
    {
     "name": "stdout",
     "output_type": "stream",
     "text": [
      "Tonight. I call on the Senate to: Pass the Freedom to Vote Act. Pass the John Lewis Voting Rights Act. And while you’re at it, pass the Disclose Act so Americans can know who is funding our elections. \n",
      "\n",
      "Tonight, I’d like to honor someone who has dedicated his life to serve this country: Justice Stephen Breyer—an Army veteran, Constitutional scholar, and retiring Justice of the United States Supreme Court. Justice Breyer, thank you for your service. \n",
      "\n",
      "One of the most serious constitutional responsibilities a President has is nominating someone to serve on the United States Supreme Court. \n",
      "\n",
      "And I did that 4 days ago, when I nominated Circuit Court of Appeals Judge Ketanji Brown Jackson. One of our nation’s top legal minds, who will continue Justice Breyer’s legacy of excellence.\n"
     ]
    }
   ],
   "source": [
    "print(docs[0].page_content)"
   ]
  },
  {
   "cell_type": "markdown",
   "id": "fb6baaf8",
   "metadata": {},
   "source": [
    "## Add texts\n",
    "You can easily add text to a vectorstore with the `add_texts` method. It will return a list of document IDs (in case you need to use them downstream)."
   ]
  },
  {
   "cell_type": "code",
   "execution_count": 9,
   "id": "70758e4f",
   "metadata": {
    "ExecuteTime": {
     "end_time": "2023-05-01T13:31:30.384149Z",
     "start_time": "2023-05-01T13:31:29.803782Z"
    }
   },
   "outputs": [
    {
     "data": {
      "text/plain": "['7af9940a-e824-11ed-81e5-8c8590bec9b3']"
     },
     "execution_count": 9,
     "metadata": {},
     "output_type": "execute_result"
    }
   ],
   "source": [
    "docsearch.add_texts([\"Ankush went to Princeton\"])"
   ]
  },
  {
   "cell_type": "code",
   "execution_count": 10,
   "id": "4edeb88f",
   "metadata": {
    "ExecuteTime": {
     "end_time": "2023-05-01T13:31:34.330937Z",
     "start_time": "2023-05-01T13:31:33.634010Z"
    }
   },
   "outputs": [],
   "source": [
    "query = \"Where did Ankush go to college?\"\n",
    "docs = docsearch.similarity_search(query)"
   ]
  },
  {
   "cell_type": "code",
   "execution_count": 11,
   "id": "1cba64a2",
   "metadata": {
    "ExecuteTime": {
     "end_time": "2023-05-01T13:31:37.214993Z",
     "start_time": "2023-05-01T13:31:37.206011Z"
    }
   },
   "outputs": [
    {
     "data": {
      "text/plain": "Document(page_content='Ankush went to Princeton', metadata={})"
     },
     "execution_count": 11,
     "metadata": {},
     "output_type": "execute_result"
    }
   ],
   "source": [
    "docs[0]"
   ]
  },
  {
   "cell_type": "markdown",
   "id": "bbf5ec44",
   "metadata": {},
   "source": [
    "## From Documents\n",
    "We can also initialize a vectorstore from documents directly. This is useful when we use the method on the text splitter to get documents directly (handy when the original documents have associated metadata)."
   ]
  },
  {
   "cell_type": "code",
   "execution_count": 12,
   "id": "df4a459c",
   "metadata": {
    "ExecuteTime": {
     "end_time": "2023-05-01T13:43:28.966098Z",
     "start_time": "2023-05-01T13:43:28.960187Z"
    }
   },
   "outputs": [],
   "source": [
    "documents = text_splitter.create_documents([state_of_the_union], metadatas=[{\"source\": \"State of the Union\"}])"
   ]
  },
  {
   "cell_type": "code",
   "execution_count": 13,
   "id": "4b480245",
   "metadata": {
    "ExecuteTime": {
     "end_time": "2023-05-01T13:43:35.395914Z",
     "start_time": "2023-05-01T13:43:31.547046Z"
    }
   },
   "outputs": [
    {
     "name": "stderr",
     "output_type": "stream",
     "text": [
      "Using embedded DuckDB without persistence: data will be transient\n"
     ]
    }
   ],
   "source": [
    "docsearch = Chroma.from_documents(documents, embeddings)\n",
    "\n",
    "query = \"What did the president say about Ketanji Brown Jackson\"\n",
    "docs = docsearch.similarity_search(query)"
   ]
  },
  {
   "cell_type": "code",
   "execution_count": 14,
   "id": "86aa4cda",
   "metadata": {
    "ExecuteTime": {
     "end_time": "2023-05-01T13:43:39.012057Z",
     "start_time": "2023-05-01T13:43:39.005204Z"
    }
   },
   "outputs": [
    {
     "name": "stdout",
     "output_type": "stream",
     "text": [
      "Tonight. I call on the Senate to: Pass the Freedom to Vote Act. Pass the John Lewis Voting Rights Act. And while you’re at it, pass the Disclose Act so Americans can know who is funding our elections. \n",
      "\n",
      "Tonight, I’d like to honor someone who has dedicated his life to serve this country: Justice Stephen Breyer—an Army veteran, Constitutional scholar, and retiring Justice of the United States Supreme Court. Justice Breyer, thank you for your service. \n",
      "\n",
      "One of the most serious constitutional responsibilities a President has is nominating someone to serve on the United States Supreme Court. \n",
      "\n",
      "And I did that 4 days ago, when I nominated Circuit Court of Appeals Judge Ketanji Brown Jackson. One of our nation’s top legal minds, who will continue Justice Breyer’s legacy of excellence.\n"
     ]
    }
   ],
   "source": [
    "print(docs[0].page_content)"
   ]
  },
  {
   "cell_type": "code",
   "execution_count": null,
   "id": "4af5a071",
   "metadata": {},
   "outputs": [],
   "source": []
  }
 ],
 "metadata": {
  "kernelspec": {
   "display_name": "Python 3 (ipykernel)",
   "language": "python",
   "name": "python3"
  },
  "language_info": {
   "codemirror_mode": {
    "name": "ipython",
    "version": 3
   },
   "file_extension": ".py",
   "mimetype": "text/x-python",
   "name": "python",
   "nbconvert_exporter": "python",
   "pygments_lexer": "ipython3",
   "version": "3.10.6"
  }
 },
 "nbformat": 4,
 "nbformat_minor": 5
}
