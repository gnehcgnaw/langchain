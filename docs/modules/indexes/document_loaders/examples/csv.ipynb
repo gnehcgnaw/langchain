{
 "cells": [
  {
   "cell_type": "markdown",
   "metadata": {},
   "source": [
    "# CSV\n",
    "\n",
    ">A [comma-separated values (CSV)](https://en.wikipedia.org/wiki/Comma-separated_values) file is a delimited text file that uses a comma to separate values. Each line of the file is a data record. Each record consists of one or more fields, separated by commas.\n",
    "\n",
    "Load [csv](https://en.wikipedia.org/wiki/Comma-separated_values) data with a single row per document."
   ]
  },
  {
   "cell_type": "code",
   "execution_count": 1,
   "metadata": {
    "collapsed": true,
    "jupyter": {
     "outputs_hidden": true
    },
    "ExecuteTime": {
     "end_time": "2023-05-08T01:39:18.191678Z",
     "start_time": "2023-05-08T01:39:14.780819Z"
    }
   },
   "outputs": [],
   "source": [
    "from langchain.document_loaders.csv_loader import CSVLoader"
   ]
  },
  {
   "cell_type": "code",
   "execution_count": 2,
   "metadata": {
    "collapsed": false,
    "jupyter": {
     "outputs_hidden": false
    },
    "ExecuteTime": {
     "end_time": "2023-05-08T01:40:34.214763Z",
     "start_time": "2023-05-08T01:40:34.192526Z"
    }
   },
   "outputs": [],
   "source": [
    "loader = CSVLoader(file_path='./example_data/mlb_teams_2012.csv')\n",
    "\n",
    "data = loader.load()"
   ]
  },
  {
   "cell_type": "code",
   "execution_count": 3,
   "metadata": {
    "collapsed": false,
    "jupyter": {
     "outputs_hidden": false
    },
    "ExecuteTime": {
     "end_time": "2023-05-08T01:40:37.849155Z",
     "start_time": "2023-05-08T01:40:37.844979Z"
    }
   },
   "outputs": [
    {
     "name": "stdout",
     "output_type": "stream",
     "text": [
      "[Document(page_content='Team: Nationals\\n\"Payroll (millions)\": 81.34\\n\"Wins\": 98', metadata={'source': './example_data/mlb_teams_2012.csv', 'row': 0}), Document(page_content='Team: Reds\\n\"Payroll (millions)\": 82.20\\n\"Wins\": 97', metadata={'source': './example_data/mlb_teams_2012.csv', 'row': 1}), Document(page_content='Team: Yankees\\n\"Payroll (millions)\": 197.96\\n\"Wins\": 95', metadata={'source': './example_data/mlb_teams_2012.csv', 'row': 2}), Document(page_content='Team: Giants\\n\"Payroll (millions)\": 117.62\\n\"Wins\": 94', metadata={'source': './example_data/mlb_teams_2012.csv', 'row': 3}), Document(page_content='Team: Braves\\n\"Payroll (millions)\": 83.31\\n\"Wins\": 94', metadata={'source': './example_data/mlb_teams_2012.csv', 'row': 4}), Document(page_content='Team: Athletics\\n\"Payroll (millions)\": 55.37\\n\"Wins\": 94', metadata={'source': './example_data/mlb_teams_2012.csv', 'row': 5}), Document(page_content='Team: Rangers\\n\"Payroll (millions)\": 120.51\\n\"Wins\": 93', metadata={'source': './example_data/mlb_teams_2012.csv', 'row': 6}), Document(page_content='Team: Orioles\\n\"Payroll (millions)\": 81.43\\n\"Wins\": 93', metadata={'source': './example_data/mlb_teams_2012.csv', 'row': 7}), Document(page_content='Team: Rays\\n\"Payroll (millions)\": 64.17\\n\"Wins\": 90', metadata={'source': './example_data/mlb_teams_2012.csv', 'row': 8}), Document(page_content='Team: Angels\\n\"Payroll (millions)\": 154.49\\n\"Wins\": 89', metadata={'source': './example_data/mlb_teams_2012.csv', 'row': 9}), Document(page_content='Team: Tigers\\n\"Payroll (millions)\": 132.30\\n\"Wins\": 88', metadata={'source': './example_data/mlb_teams_2012.csv', 'row': 10}), Document(page_content='Team: Cardinals\\n\"Payroll (millions)\": 110.30\\n\"Wins\": 88', metadata={'source': './example_data/mlb_teams_2012.csv', 'row': 11}), Document(page_content='Team: Dodgers\\n\"Payroll (millions)\": 95.14\\n\"Wins\": 86', metadata={'source': './example_data/mlb_teams_2012.csv', 'row': 12}), Document(page_content='Team: White Sox\\n\"Payroll (millions)\": 96.92\\n\"Wins\": 85', metadata={'source': './example_data/mlb_teams_2012.csv', 'row': 13}), Document(page_content='Team: Brewers\\n\"Payroll (millions)\": 97.65\\n\"Wins\": 83', metadata={'source': './example_data/mlb_teams_2012.csv', 'row': 14}), Document(page_content='Team: Phillies\\n\"Payroll (millions)\": 174.54\\n\"Wins\": 81', metadata={'source': './example_data/mlb_teams_2012.csv', 'row': 15}), Document(page_content='Team: Diamondbacks\\n\"Payroll (millions)\": 74.28\\n\"Wins\": 81', metadata={'source': './example_data/mlb_teams_2012.csv', 'row': 16}), Document(page_content='Team: Pirates\\n\"Payroll (millions)\": 63.43\\n\"Wins\": 79', metadata={'source': './example_data/mlb_teams_2012.csv', 'row': 17}), Document(page_content='Team: Padres\\n\"Payroll (millions)\": 55.24\\n\"Wins\": 76', metadata={'source': './example_data/mlb_teams_2012.csv', 'row': 18}), Document(page_content='Team: Mariners\\n\"Payroll (millions)\": 81.97\\n\"Wins\": 75', metadata={'source': './example_data/mlb_teams_2012.csv', 'row': 19}), Document(page_content='Team: Mets\\n\"Payroll (millions)\": 93.35\\n\"Wins\": 74', metadata={'source': './example_data/mlb_teams_2012.csv', 'row': 20}), Document(page_content='Team: Blue Jays\\n\"Payroll (millions)\": 75.48\\n\"Wins\": 73', metadata={'source': './example_data/mlb_teams_2012.csv', 'row': 21}), Document(page_content='Team: Royals\\n\"Payroll (millions)\": 60.91\\n\"Wins\": 72', metadata={'source': './example_data/mlb_teams_2012.csv', 'row': 22}), Document(page_content='Team: Marlins\\n\"Payroll (millions)\": 118.07\\n\"Wins\": 69', metadata={'source': './example_data/mlb_teams_2012.csv', 'row': 23}), Document(page_content='Team: Red Sox\\n\"Payroll (millions)\": 173.18\\n\"Wins\": 69', metadata={'source': './example_data/mlb_teams_2012.csv', 'row': 24}), Document(page_content='Team: Indians\\n\"Payroll (millions)\": 78.43\\n\"Wins\": 68', metadata={'source': './example_data/mlb_teams_2012.csv', 'row': 25}), Document(page_content='Team: Twins\\n\"Payroll (millions)\": 94.08\\n\"Wins\": 66', metadata={'source': './example_data/mlb_teams_2012.csv', 'row': 26}), Document(page_content='Team: Rockies\\n\"Payroll (millions)\": 78.06\\n\"Wins\": 64', metadata={'source': './example_data/mlb_teams_2012.csv', 'row': 27}), Document(page_content='Team: Cubs\\n\"Payroll (millions)\": 88.19\\n\"Wins\": 61', metadata={'source': './example_data/mlb_teams_2012.csv', 'row': 28}), Document(page_content='Team: Astros\\n\"Payroll (millions)\": 60.65\\n\"Wins\": 55', metadata={'source': './example_data/mlb_teams_2012.csv', 'row': 29})]\n"
     ]
    }
   ],
   "source": [
    "print(data)"
   ]
  },
  {
   "cell_type": "code",
   "execution_count": 4,
   "outputs": [
    {
     "name": "stdout",
     "output_type": "stream",
     "text": [
      "page_content='Team: Nationals\\n\"Payroll (millions)\": 81.34\\n\"Wins\": 98' metadata={'source': './example_data/mlb_teams_2012.csv', 'row': 0}\n"
     ]
    }
   ],
   "source": [
    "print(data[0])"
   ],
   "metadata": {
    "collapsed": false,
    "ExecuteTime": {
     "end_time": "2023-05-08T01:41:19.610826Z",
     "start_time": "2023-05-08T01:41:19.601664Z"
    }
   }
  },
  {
   "cell_type": "markdown",
   "metadata": {},
   "source": [
    "## Customizing the csv parsing and loading\n",
    "\n",
    "See the [csv module](https://docs.python.org/3/library/csv.html) documentation for more information of what csv args are supported."
   ]
  },
  {
   "cell_type": "code",
   "execution_count": 7,
   "metadata": {
    "collapsed": false,
    "jupyter": {
     "outputs_hidden": false
    },
    "ExecuteTime": {
     "end_time": "2023-05-08T01:46:43.949470Z",
     "start_time": "2023-05-08T01:46:43.946417Z"
    }
   },
   "outputs": [],
   "source": [
    "loader = CSVLoader(file_path='./example_data/mlb_teams_2012.csv', csv_args={\n",
    "    # delimiter是分隔符，quotechar是引用符，fieldnames是列名,skipinitialspace是去除空格 ,encoding是编码,默认utf-8,如果是中文的话，需要改成gbk\n",
    "    'delimiter': ',',\n",
    "    'quotechar': '\"',\n",
    "    'fieldnames': ['球队', '薪资总额（百万美元）', '胜场数'],\n",
    "    'skipinitialspace': True,\n",
    "})\n",
    "\n",
    "data = loader.load()"
   ]
  },
  {
   "cell_type": "code",
   "execution_count": 8,
   "metadata": {
    "collapsed": false,
    "jupyter": {
     "outputs_hidden": false
    },
    "ExecuteTime": {
     "end_time": "2023-05-08T01:46:47.312084Z",
     "start_time": "2023-05-08T01:46:47.306392Z"
    }
   },
   "outputs": [
    {
     "name": "stdout",
     "output_type": "stream",
     "text": [
      "[Document(page_content='球队: Team\\n薪资总额（百万美元）: \"Payroll (millions)\"\\n胜场数: \"Wins\"', metadata={'source': './example_data/mlb_teams_2012.csv', 'row': 0}), Document(page_content='球队: Nationals\\n薪资总额（百万美元）: 81.34\\n胜场数: 98', metadata={'source': './example_data/mlb_teams_2012.csv', 'row': 1}), Document(page_content='球队: Reds\\n薪资总额（百万美元）: 82.20\\n胜场数: 97', metadata={'source': './example_data/mlb_teams_2012.csv', 'row': 2}), Document(page_content='球队: Yankees\\n薪资总额（百万美元）: 197.96\\n胜场数: 95', metadata={'source': './example_data/mlb_teams_2012.csv', 'row': 3}), Document(page_content='球队: Giants\\n薪资总额（百万美元）: 117.62\\n胜场数: 94', metadata={'source': './example_data/mlb_teams_2012.csv', 'row': 4}), Document(page_content='球队: Braves\\n薪资总额（百万美元）: 83.31\\n胜场数: 94', metadata={'source': './example_data/mlb_teams_2012.csv', 'row': 5}), Document(page_content='球队: Athletics\\n薪资总额（百万美元）: 55.37\\n胜场数: 94', metadata={'source': './example_data/mlb_teams_2012.csv', 'row': 6}), Document(page_content='球队: Rangers\\n薪资总额（百万美元）: 120.51\\n胜场数: 93', metadata={'source': './example_data/mlb_teams_2012.csv', 'row': 7}), Document(page_content='球队: Orioles\\n薪资总额（百万美元）: 81.43\\n胜场数: 93', metadata={'source': './example_data/mlb_teams_2012.csv', 'row': 8}), Document(page_content='球队: Rays\\n薪资总额（百万美元）: 64.17\\n胜场数: 90', metadata={'source': './example_data/mlb_teams_2012.csv', 'row': 9}), Document(page_content='球队: Angels\\n薪资总额（百万美元）: 154.49\\n胜场数: 89', metadata={'source': './example_data/mlb_teams_2012.csv', 'row': 10}), Document(page_content='球队: Tigers\\n薪资总额（百万美元）: 132.30\\n胜场数: 88', metadata={'source': './example_data/mlb_teams_2012.csv', 'row': 11}), Document(page_content='球队: Cardinals\\n薪资总额（百万美元）: 110.30\\n胜场数: 88', metadata={'source': './example_data/mlb_teams_2012.csv', 'row': 12}), Document(page_content='球队: Dodgers\\n薪资总额（百万美元）: 95.14\\n胜场数: 86', metadata={'source': './example_data/mlb_teams_2012.csv', 'row': 13}), Document(page_content='球队: White Sox\\n薪资总额（百万美元）: 96.92\\n胜场数: 85', metadata={'source': './example_data/mlb_teams_2012.csv', 'row': 14}), Document(page_content='球队: Brewers\\n薪资总额（百万美元）: 97.65\\n胜场数: 83', metadata={'source': './example_data/mlb_teams_2012.csv', 'row': 15}), Document(page_content='球队: Phillies\\n薪资总额（百万美元）: 174.54\\n胜场数: 81', metadata={'source': './example_data/mlb_teams_2012.csv', 'row': 16}), Document(page_content='球队: Diamondbacks\\n薪资总额（百万美元）: 74.28\\n胜场数: 81', metadata={'source': './example_data/mlb_teams_2012.csv', 'row': 17}), Document(page_content='球队: Pirates\\n薪资总额（百万美元）: 63.43\\n胜场数: 79', metadata={'source': './example_data/mlb_teams_2012.csv', 'row': 18}), Document(page_content='球队: Padres\\n薪资总额（百万美元）: 55.24\\n胜场数: 76', metadata={'source': './example_data/mlb_teams_2012.csv', 'row': 19}), Document(page_content='球队: Mariners\\n薪资总额（百万美元）: 81.97\\n胜场数: 75', metadata={'source': './example_data/mlb_teams_2012.csv', 'row': 20}), Document(page_content='球队: Mets\\n薪资总额（百万美元）: 93.35\\n胜场数: 74', metadata={'source': './example_data/mlb_teams_2012.csv', 'row': 21}), Document(page_content='球队: Blue Jays\\n薪资总额（百万美元）: 75.48\\n胜场数: 73', metadata={'source': './example_data/mlb_teams_2012.csv', 'row': 22}), Document(page_content='球队: Royals\\n薪资总额（百万美元）: 60.91\\n胜场数: 72', metadata={'source': './example_data/mlb_teams_2012.csv', 'row': 23}), Document(page_content='球队: Marlins\\n薪资总额（百万美元）: 118.07\\n胜场数: 69', metadata={'source': './example_data/mlb_teams_2012.csv', 'row': 24}), Document(page_content='球队: Red Sox\\n薪资总额（百万美元）: 173.18\\n胜场数: 69', metadata={'source': './example_data/mlb_teams_2012.csv', 'row': 25}), Document(page_content='球队: Indians\\n薪资总额（百万美元）: 78.43\\n胜场数: 68', metadata={'source': './example_data/mlb_teams_2012.csv', 'row': 26}), Document(page_content='球队: Twins\\n薪资总额（百万美元）: 94.08\\n胜场数: 66', metadata={'source': './example_data/mlb_teams_2012.csv', 'row': 27}), Document(page_content='球队: Rockies\\n薪资总额（百万美元）: 78.06\\n胜场数: 64', metadata={'source': './example_data/mlb_teams_2012.csv', 'row': 28}), Document(page_content='球队: Cubs\\n薪资总额（百万美元）: 88.19\\n胜场数: 61', metadata={'source': './example_data/mlb_teams_2012.csv', 'row': 29}), Document(page_content='球队: Astros\\n薪资总额（百万美元）: 60.65\\n胜场数: 55', metadata={'source': './example_data/mlb_teams_2012.csv', 'row': 30})]\n"
     ]
    }
   ],
   "source": [
    "print(data)"
   ]
  },
  {
   "cell_type": "code",
   "execution_count": 9,
   "outputs": [
    {
     "name": "stdout",
     "output_type": "stream",
     "text": [
      "page_content='球队: Team\\n薪资总额（百万美元）: \"Payroll (millions)\"\\n胜场数: \"Wins\"' metadata={'source': './example_data/mlb_teams_2012.csv', 'row': 0}\n"
     ]
    }
   ],
   "source": [
    "print(data[0])"
   ],
   "metadata": {
    "collapsed": false,
    "ExecuteTime": {
     "end_time": "2023-05-08T01:46:51.962776Z",
     "start_time": "2023-05-08T01:46:51.957704Z"
    }
   }
  },
  {
   "cell_type": "markdown",
   "metadata": {},
   "source": [
    "## Specify a column to identify the document source\n",
    "\n",
    "Use the `source_column` argument to specify a source for the document created from each row. Otherwise `file_path` will be used as the source for all documents created from the CSV file.\n",
    "\n",
    "This is useful when using documents loaded from CSV files for chains that answer questions using sources."
   ]
  },
  {
   "cell_type": "code",
   "execution_count": 10,
   "metadata": {
    "ExecuteTime": {
     "end_time": "2023-05-08T01:50:32.456779Z",
     "start_time": "2023-05-08T01:50:32.452201Z"
    }
   },
   "outputs": [],
   "source": [
    "# source_column是指定一个列来标识文档源\n",
    "loader = CSVLoader(file_path='./example_data/mlb_teams_2012.csv', source_column=\"Team\")\n",
    "\n",
    "data = loader.load()"
   ]
  },
  {
   "cell_type": "code",
   "execution_count": 11,
   "metadata": {
    "ExecuteTime": {
     "end_time": "2023-05-08T01:50:34.483702Z",
     "start_time": "2023-05-08T01:50:34.478089Z"
    }
   },
   "outputs": [
    {
     "name": "stdout",
     "output_type": "stream",
     "text": [
      "[Document(page_content='Team: Nationals\\n\"Payroll (millions)\": 81.34\\n\"Wins\": 98', metadata={'source': 'Nationals', 'row': 0}), Document(page_content='Team: Reds\\n\"Payroll (millions)\": 82.20\\n\"Wins\": 97', metadata={'source': 'Reds', 'row': 1}), Document(page_content='Team: Yankees\\n\"Payroll (millions)\": 197.96\\n\"Wins\": 95', metadata={'source': 'Yankees', 'row': 2}), Document(page_content='Team: Giants\\n\"Payroll (millions)\": 117.62\\n\"Wins\": 94', metadata={'source': 'Giants', 'row': 3}), Document(page_content='Team: Braves\\n\"Payroll (millions)\": 83.31\\n\"Wins\": 94', metadata={'source': 'Braves', 'row': 4}), Document(page_content='Team: Athletics\\n\"Payroll (millions)\": 55.37\\n\"Wins\": 94', metadata={'source': 'Athletics', 'row': 5}), Document(page_content='Team: Rangers\\n\"Payroll (millions)\": 120.51\\n\"Wins\": 93', metadata={'source': 'Rangers', 'row': 6}), Document(page_content='Team: Orioles\\n\"Payroll (millions)\": 81.43\\n\"Wins\": 93', metadata={'source': 'Orioles', 'row': 7}), Document(page_content='Team: Rays\\n\"Payroll (millions)\": 64.17\\n\"Wins\": 90', metadata={'source': 'Rays', 'row': 8}), Document(page_content='Team: Angels\\n\"Payroll (millions)\": 154.49\\n\"Wins\": 89', metadata={'source': 'Angels', 'row': 9}), Document(page_content='Team: Tigers\\n\"Payroll (millions)\": 132.30\\n\"Wins\": 88', metadata={'source': 'Tigers', 'row': 10}), Document(page_content='Team: Cardinals\\n\"Payroll (millions)\": 110.30\\n\"Wins\": 88', metadata={'source': 'Cardinals', 'row': 11}), Document(page_content='Team: Dodgers\\n\"Payroll (millions)\": 95.14\\n\"Wins\": 86', metadata={'source': 'Dodgers', 'row': 12}), Document(page_content='Team: White Sox\\n\"Payroll (millions)\": 96.92\\n\"Wins\": 85', metadata={'source': 'White Sox', 'row': 13}), Document(page_content='Team: Brewers\\n\"Payroll (millions)\": 97.65\\n\"Wins\": 83', metadata={'source': 'Brewers', 'row': 14}), Document(page_content='Team: Phillies\\n\"Payroll (millions)\": 174.54\\n\"Wins\": 81', metadata={'source': 'Phillies', 'row': 15}), Document(page_content='Team: Diamondbacks\\n\"Payroll (millions)\": 74.28\\n\"Wins\": 81', metadata={'source': 'Diamondbacks', 'row': 16}), Document(page_content='Team: Pirates\\n\"Payroll (millions)\": 63.43\\n\"Wins\": 79', metadata={'source': 'Pirates', 'row': 17}), Document(page_content='Team: Padres\\n\"Payroll (millions)\": 55.24\\n\"Wins\": 76', metadata={'source': 'Padres', 'row': 18}), Document(page_content='Team: Mariners\\n\"Payroll (millions)\": 81.97\\n\"Wins\": 75', metadata={'source': 'Mariners', 'row': 19}), Document(page_content='Team: Mets\\n\"Payroll (millions)\": 93.35\\n\"Wins\": 74', metadata={'source': 'Mets', 'row': 20}), Document(page_content='Team: Blue Jays\\n\"Payroll (millions)\": 75.48\\n\"Wins\": 73', metadata={'source': 'Blue Jays', 'row': 21}), Document(page_content='Team: Royals\\n\"Payroll (millions)\": 60.91\\n\"Wins\": 72', metadata={'source': 'Royals', 'row': 22}), Document(page_content='Team: Marlins\\n\"Payroll (millions)\": 118.07\\n\"Wins\": 69', metadata={'source': 'Marlins', 'row': 23}), Document(page_content='Team: Red Sox\\n\"Payroll (millions)\": 173.18\\n\"Wins\": 69', metadata={'source': 'Red Sox', 'row': 24}), Document(page_content='Team: Indians\\n\"Payroll (millions)\": 78.43\\n\"Wins\": 68', metadata={'source': 'Indians', 'row': 25}), Document(page_content='Team: Twins\\n\"Payroll (millions)\": 94.08\\n\"Wins\": 66', metadata={'source': 'Twins', 'row': 26}), Document(page_content='Team: Rockies\\n\"Payroll (millions)\": 78.06\\n\"Wins\": 64', metadata={'source': 'Rockies', 'row': 27}), Document(page_content='Team: Cubs\\n\"Payroll (millions)\": 88.19\\n\"Wins\": 61', metadata={'source': 'Cubs', 'row': 28}), Document(page_content='Team: Astros\\n\"Payroll (millions)\": 60.65\\n\"Wins\": 55', metadata={'source': 'Astros', 'row': 29})]\n"
     ]
    }
   ],
   "source": [
    "print(data)"
   ]
  },
  {
   "cell_type": "code",
   "execution_count": 12,
   "outputs": [
    {
     "name": "stdout",
     "output_type": "stream",
     "text": [
      "page_content='Team: Nationals\\n\"Payroll (millions)\": 81.34\\n\"Wins\": 98' metadata={'source': 'Nationals', 'row': 0}\n"
     ]
    }
   ],
   "source": [
    "print(data[0])"
   ],
   "metadata": {
    "collapsed": false,
    "ExecuteTime": {
     "end_time": "2023-05-08T01:50:37.505915Z",
     "start_time": "2023-05-08T01:50:37.495696Z"
    }
   }
  }
 ],
 "metadata": {
  "kernelspec": {
   "display_name": "Python 3 (ipykernel)",
   "language": "python",
   "name": "python3"
  },
  "language_info": {
   "codemirror_mode": {
    "name": "ipython",
    "version": 3
   },
   "file_extension": ".py",
   "mimetype": "text/x-python",
   "name": "python",
   "nbconvert_exporter": "python",
   "pygments_lexer": "ipython3",
   "version": "3.10.6"
  }
 },
 "nbformat": 4,
 "nbformat_minor": 4
}
