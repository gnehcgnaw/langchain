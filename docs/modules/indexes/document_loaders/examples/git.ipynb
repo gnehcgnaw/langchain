{
 "cells": [
  {
   "cell_type": "markdown",
   "metadata": {},
   "source": [
    "# Git\n",
    "\n",
    ">[Git](https://en.wikipedia.org/wiki/Git) is a distributed version control system that tracks changes in any set of computer files, usually used for coordinating work among programmers collaboratively developing source code during software development.\n",
    "\n",
    "This notebook shows how to load text files from `Git` repository."
   ]
  },
  {
   "cell_type": "markdown",
   "metadata": {},
   "source": [
    "## Load existing repository from disk"
   ]
  },
  {
   "cell_type": "code",
   "execution_count": null,
   "metadata": {
    "tags": []
   },
   "outputs": [],
   "source": [
    "!pip install GitPython"
   ]
  },
  {
   "cell_type": "code",
   "execution_count": 15,
   "metadata": {
    "tags": [],
    "ExecuteTime": {
     "end_time": "2023-05-04T05:25:45.287459Z",
     "start_time": "2023-05-04T05:25:45.267976Z"
    }
   },
   "outputs": [],
   "source": [
    "from git import Repo\n",
    "from dotenv import load_dotenv\n",
    "import os\n",
    "\n",
    "load_dotenv()\n",
    "repo = ''\n",
    "branch = ''\n",
    "\n",
    "url = os.getenv(\"GIT_REPO_URL\")\n",
    "to_path = os.getenv(\"GIT_TO_PATH\")\n",
    "repo_path = os.getenv(\"GIT_REPO_PATH\")\n",
    "if not os.path.exists(repo_path):\n",
    "    repo = Repo.clone_from(url=url, to_path=to_path)\n",
    "\n",
    "else:\n",
    "    repo = Repo(repo_path)\n",
    "branch = repo.head.reference"
   ]
  },
  {
   "cell_type": "code",
   "execution_count": 16,
   "metadata": {
    "tags": [],
    "ExecuteTime": {
     "end_time": "2023-05-04T05:25:48.264618Z",
     "start_time": "2023-05-04T05:25:48.256498Z"
    }
   },
   "outputs": [],
   "source": [
    "from langchain.document_loaders import GitLoader"
   ]
  },
  {
   "cell_type": "code",
   "execution_count": 17,
   "metadata": {
    "ExecuteTime": {
     "end_time": "2023-05-04T05:25:50.463261Z",
     "start_time": "2023-05-04T05:25:50.455826Z"
    }
   },
   "outputs": [],
   "source": [
    "loader = GitLoader(repo_path=repo_path, branch=branch)"
   ]
  },
  {
   "cell_type": "code",
   "execution_count": 18,
   "metadata": {
    "ExecuteTime": {
     "end_time": "2023-05-04T05:26:20.754498Z",
     "start_time": "2023-05-04T05:25:52.756144Z"
    }
   },
   "outputs": [],
   "source": [
    "data = loader.load()"
   ]
  },
  {
   "cell_type": "code",
   "execution_count": 19,
   "metadata": {
    "ExecuteTime": {
     "end_time": "2023-05-04T05:27:53.858624Z",
     "start_time": "2023-05-04T05:27:53.847428Z"
    }
   },
   "outputs": [
    {
     "data": {
      "text/plain": "1415"
     },
     "execution_count": 19,
     "metadata": {},
     "output_type": "execute_result"
    }
   ],
   "source": [
    "len(data)"
   ]
  },
  {
   "cell_type": "code",
   "execution_count": 25,
   "metadata": {
    "ExecuteTime": {
     "end_time": "2023-05-04T05:30:54.258564Z",
     "start_time": "2023-05-04T05:30:54.150244Z"
    }
   },
   "outputs": [
    {
     "name": "stdout",
     "output_type": "stream",
     "text": [
      "page_content='{\\n \"cells\": [\\n  {\\n   \"cell_type\": \"markdown\",\\n   \"metadata\": {},\\n   \"source\": [\\n    \"# Weights & Biases\\\\n\",\\n    \"\\\\n\",\\n    \"This notebook goes over how to track your LangChain experiments into one centralized Weights and Biases dashboard. To learn more about prompt engineering and the callback please refer to this Report which explains both alongside the resultant dashboards you can expect to see.\\\\n\",\\n    \"\\\\n\",\\n    \"Run in Colab: https://colab.research.google.com/drive/1DXH4beT4HFaRKy_Vm4PoxhXVDRf7Ym8L?usp=sharing\\\\n\",\\n    \"\\\\n\",\\n    \"View Report: https://wandb.ai/a-sh0ts/langchain_callback_demo/reports/Prompt-Engineering-LLMs-with-LangChain-and-W-B--VmlldzozNjk1NTUw#👋-how-to-build-a-callback-in-langchain-for-better-prompt-engineering\"\\n   ]\\n  },\\n  {\\n   \"cell_type\": \"code\",\\n   \"execution_count\": null,\\n   \"metadata\": {},\\n   \"outputs\": [],\\n   \"source\": [\\n    \"!pip install wandb\\\\n\",\\n    \"!pip install pandas\\\\n\",\\n    \"!pip install textstat\\\\n\",\\n    \"!pip install spacy\\\\n\",\\n    \"!python -m spacy download en_core_web_sm\"\\n   ]\\n  },\\n  {\\n   \"cell_type\": \"code\",\\n   \"execution_count\": 1,\\n   \"metadata\": {\\n    \"id\": \"T1bSmKd6V2If\"\\n   },\\n   \"outputs\": [],\\n   \"source\": [\\n    \"import os\\\\n\",\\n    \"os.environ[\\\\\"WANDB_API_KEY\\\\\"] = \\\\\"\\\\\"\\\\n\",\\n    \"# os.environ[\\\\\"OPENAI_API_KEY\\\\\"] = \\\\\"\\\\\"\\\\n\",\\n    \"# os.environ[\\\\\"SERPAPI_API_KEY\\\\\"] = \\\\\"\\\\\"\"\\n   ]\\n  },\\n  {\\n   \"cell_type\": \"code\",\\n   \"execution_count\": 2,\\n   \"metadata\": {\\n    \"id\": \"8WAGnTWpUUnD\"\\n   },\\n   \"outputs\": [],\\n   \"source\": [\\n    \"from datetime import datetime\\\\n\",\\n    \"from langchain.callbacks import WandbCallbackHandler, StdOutCallbackHandler\\\\n\",\\n    \"from langchain.llms import OpenAI\"\\n   ]\\n  },\\n  {\\n   \"cell_type\": \"markdown\",\\n   \"metadata\": {},\\n   \"source\": [\\n    \"```\\\\n\",\\n    \"Callback Handler that logs to Weights and Biases.\\\\n\",\\n    \"\\\\n\",\\n    \"Parameters:\\\\n\",\\n    \"    job_type (str): The type of job.\\\\n\",\\n    \"    project (str): The project to log to.\\\\n\",\\n    \"    entity (str): The entity to log to.\\\\n\",\\n    \"    tags (list): The tags to log.\\\\n\",\\n    \"    group (str): The group to log to.\\\\n\",\\n    \"    name (str): The name of the run.\\\\n\",\\n    \"    notes (str): The notes to log.\\\\n\",\\n    \"    visualize (bool): Whether to visualize the run.\\\\n\",\\n    \"    complexity_metrics (bool): Whether to log complexity metrics.\\\\n\",\\n    \"    stream_logs (bool): Whether to stream callback actions to W&B\\\\n\",\\n    \"```\"\\n   ]\\n  },\\n  {\\n   \"cell_type\": \"markdown\",\\n   \"metadata\": {\\n    \"id\": \"cxBFfZR8d9FC\"\\n   },\\n   \"source\": [\\n    \"```\\\\n\",\\n    \"Default values for WandbCallbackHandler(...)\\\\n\",\\n    \"\\\\n\",\\n    \"visualize: bool = False,\\\\n\",\\n    \"complexity_metrics: bool = False,\\\\n\",\\n    \"stream_logs: bool = False,\\\\n\",\\n    \"```\\\\n\"\\n   ]\\n  },\\n  {\\n   \"cell_type\": \"markdown\",\\n   \"metadata\": {},\\n   \"source\": [\\n    \"NOTE: For beta workflows we have made the default analysis based on textstat and the visualizations based on spacy\"\\n   ]\\n  },\\n  {\\n   \"cell_type\": \"code\",\\n   \"execution_count\": 3,\\n   \"metadata\": {\\n    \"id\": \"KAz8weWuUeXF\"\\n   },\\n   \"outputs\": [\\n    {\\n     \"name\": \"stderr\",\\n     \"output_type\": \"stream\",\\n     \"text\": [\\n      \"\\\\u001b[34m\\\\u001b[1mwandb\\\\u001b[0m: Currently logged in as: \\\\u001b[33mharrison-chase\\\\u001b[0m. Use \\\\u001b[1m`wandb login --relogin`\\\\u001b[0m to force relogin\\\\n\"\\n     ]\\n    },\\n    {\\n     \"data\": {\\n      \"text/html\": [\\n       \"Tracking run with wandb version 0.14.0\"\\n      ],\\n      \"text/plain\": [\\n       \"<IPython.core.display.HTML object>\"\\n      ]\\n     },\\n     \"metadata\": {},\\n     \"output_type\": \"display_data\"\\n    },\\n    {\\n     \"data\": {\\n      \"text/html\": [\\n       \"Run data is saved locally in <code>/Users/harrisonchase/workplace/langchain/docs/ecosystem/wandb/run-20230318_150408-e47j1914</code>\"\\n      ],\\n      \"text/plain\": [\\n       \"<IPython.core.display.HTML object>\"\\n      ]\\n     },\\n     \"metadata\": {},\\n     \"output_type\": \"display_data\"\\n    },\\n    {\\n     \"data\": {\\n      \"text/html\": [\\n       \"Syncing run <strong><a href=\\'https://wandb.ai/harrison-chase/langchain_callback_demo/runs/e47j1914\\' target=\\\\\"_blank\\\\\">llm</a></strong> to <a href=\\'https://wandb.ai/harrison-chase/langchain_callback_demo\\' target=\\\\\"_blank\\\\\">Weights & Biases</a> (<a href=\\'https://wandb.me/run\\' target=\\\\\"_blank\\\\\">docs</a>)<br/>\"\\n      ],\\n      \"text/plain\": [\\n       \"<IPython.core.display.HTML object>\"\\n      ]\\n     },\\n     \"metadata\": {},\\n     \"output_type\": \"display_data\"\\n    },\\n    {\\n     \"data\": {\\n      \"text/html\": [\\n       \" View project at <a href=\\'https://wandb.ai/harrison-chase/langchain_callback_demo\\' target=\\\\\"_blank\\\\\">https://wandb.ai/harrison-chase/langchain_callback_demo</a>\"\\n      ],\\n      \"text/plain\": [\\n       \"<IPython.core.display.HTML object>\"\\n      ]\\n     },\\n     \"metadata\": {},\\n     \"output_type\": \"display_data\"\\n    },\\n    {\\n     \"data\": {\\n      \"text/html\": [\\n       \" View run at <a href=\\'https://wandb.ai/harrison-chase/langchain_callback_demo/runs/e47j1914\\' target=\\\\\"_blank\\\\\">https://wandb.ai/harrison-chase/langchain_callback_demo/runs/e47j1914</a>\"\\n      ],\\n      \"text/plain\": [\\n       \"<IPython.core.display.HTML object>\"\\n      ]\\n     },\\n     \"metadata\": {},\\n     \"output_type\": \"display_data\"\\n    },\\n    {\\n     \"name\": \"stderr\",\\n     \"output_type\": \"stream\",\\n     \"text\": [\\n      \"\\\\u001b[34m\\\\u001b[1mwandb\\\\u001b[0m: \\\\u001b[33mWARNING\\\\u001b[0m The wandb callback is currently in beta and is subject to change based on updates to `langchain`. Please report any issues to https://github.com/wandb/wandb/issues with the tag `langchain`.\\\\n\"\\n     ]\\n    }\\n   ],\\n   \"source\": [\\n    \"\\\\\"\\\\\"\\\\\"Main function.\\\\n\",\\n    \"\\\\n\",\\n    \"This function is used to try the callback handler.\\\\n\",\\n    \"Scenarios:\\\\n\",\\n    \"1. OpenAI LLM\\\\n\",\\n    \"2. Chain with multiple SubChains on multiple generations\\\\n\",\\n    \"3. Agent with Tools\\\\n\",\\n    \"\\\\\"\\\\\"\\\\\"\\\\n\",\\n    \"session_group = datetime.now().strftime(\\\\\"%m.%d.%Y_%H.%M.%S\\\\\")\\\\n\",\\n    \"wandb_callback = WandbCallbackHandler(\\\\n\",\\n    \"    job_type=\\\\\"inference\\\\\",\\\\n\",\\n    \"    project=\\\\\"langchain_callback_demo\\\\\",\\\\n\",\\n    \"    group=f\\\\\"minimal_{session_group}\\\\\",\\\\n\",\\n    \"    name=\\\\\"llm\\\\\",\\\\n\",\\n    \"    tags=[\\\\\"test\\\\\"],\\\\n\",\\n    \")\\\\n\",\\n    \"callbacks = [StdOutCallbackHandler(), wandb_callback]\\\\n\",\\n    \"llm = OpenAI(temperature=0, callbacks=callbacks)\"\\n   ]\\n  },\\n  {\\n   \"cell_type\": \"markdown\",\\n   \"metadata\": {\\n    \"id\": \"Q-65jwrDeK6w\"\\n   },\\n   \"source\": [\\n    \"\\\\n\",\\n    \"\\\\n\",\\n    \"```\\\\n\",\\n    \"# Defaults for WandbCallbackHandler.flush_tracker(...)\\\\n\",\\n    \"\\\\n\",\\n    \"reset: bool = True,\\\\n\",\\n    \"finish: bool = False,\\\\n\",\\n    \"```\\\\n\",\\n    \"\\\\n\"\\n   ]\\n  },\\n  {\\n   \"cell_type\": \"markdown\",\\n   \"metadata\": {},\\n   \"source\": [\\n    \"The `flush_tracker` function is used to log LangChain sessions to Weights & Biases. It takes in the LangChain module or agent, and logs at minimum the prompts and generations alongside the serialized form of the LangChain module to the specified Weights & Biases project. By default we reset the session as opposed to concluding the session outright.\"\\n   ]\\n  },\\n  {\\n   \"cell_type\": \"code\",\\n   \"execution_count\": 4,\\n   \"metadata\": {\\n    \"id\": \"o_VmneyIUyx8\"\\n   },\\n   \"outputs\": [\\n    {\\n     \"data\": {\\n      \"text/html\": [\\n       \"Waiting for W&B process to finish... <strong style=\\\\\"color:green\\\\\">(success).</strong>\"\\n      ],\\n      \"text/plain\": [\\n       \"<IPython.core.display.HTML object>\"\\n      ]\\n     },\\n     \"metadata\": {},\\n     \"output_type\": \"display_data\"\\n    },\\n    {\\n     \"data\": {\\n      \"text/html\": [\\n       \" View run <strong style=\\\\\"color:#cdcd00\\\\\">llm</strong> at: <a href=\\'https://wandb.ai/harrison-chase/langchain_callback_demo/runs/e47j1914\\' target=\\\\\"_blank\\\\\">https://wandb.ai/harrison-chase/langchain_callback_demo/runs/e47j1914</a><br/>Synced 5 W&B file(s), 2 media file(s), 5 artifact file(s) and 0 other file(s)\"\\n      ],\\n      \"text/plain\": [\\n       \"<IPython.core.display.HTML object>\"\\n      ]\\n     },\\n     \"metadata\": {},\\n     \"output_type\": \"display_data\"\\n    },\\n    {\\n     \"data\": {\\n      \"text/html\": [\\n       \"Find logs at: <code>./wandb/run-20230318_150408-e47j1914/logs</code>\"\\n      ],\\n      \"text/plain\": [\\n       \"<IPython.core.display.HTML object>\"\\n      ]\\n     },\\n     \"metadata\": {},\\n     \"output_type\": \"display_data\"\\n    },\\n    {\\n     \"data\": {\\n      \"application/vnd.jupyter.widget-view+json\": {\\n       \"model_id\": \"0d7b4307ccdb450ea631497174fca2d1\",\\n       \"version_major\": 2,\\n       \"version_minor\": 0\\n      },\\n      \"text/plain\": [\\n       \"VBox(children=(Label(value=\\'Waiting for wandb.init()...\\\\\\\\r\\'), FloatProgress(value=0.016745895149999985, max=1.0…\"\\n      ]\\n     },\\n     \"metadata\": {},\\n     \"output_type\": \"display_data\"\\n    },\\n    {\\n     \"data\": {\\n      \"text/html\": [\\n       \"Tracking run with wandb version 0.14.0\"\\n      ],\\n      \"text/plain\": [\\n       \"<IPython.core.display.HTML object>\"\\n      ]\\n     },\\n     \"metadata\": {},\\n     \"output_type\": \"display_data\"\\n    },\\n    {\\n     \"data\": {\\n      \"text/html\": [\\n       \"Run data is saved locally in <code>/Users/harrisonchase/workplace/langchain/docs/ecosystem/wandb/run-20230318_150534-jyxma7hu</code>\"\\n      ],\\n      \"text/plain\": [\\n       \"<IPython.core.display.HTML object>\"\\n      ]\\n     },\\n     \"metadata\": {},\\n     \"output_type\": \"display_data\"\\n    },\\n    {\\n     \"data\": {\\n      \"text/html\": [\\n       \"Syncing run <strong><a href=\\'https://wandb.ai/harrison-chase/langchain_callback_demo/runs/jyxma7hu\\' target=\\\\\"_blank\\\\\">simple_sequential</a></strong> to <a href=\\'https://wandb.ai/harrison-chase/langchain_callback_demo\\' target=\\\\\"_blank\\\\\">Weights & Biases</a> (<a href=\\'https://wandb.me/run\\' target=\\\\\"_blank\\\\\">docs</a>)<br/>\"\\n      ],\\n      \"text/plain\": [\\n       \"<IPython.core.display.HTML object>\"\\n      ]\\n     },\\n     \"metadata\": {},\\n     \"output_type\": \"display_data\"\\n    },\\n    {\\n     \"data\": {\\n      \"text/html\": [\\n       \" View project at <a href=\\'https://wandb.ai/harrison-chase/langchain_callback_demo\\' target=\\\\\"_blank\\\\\">https://wandb.ai/harrison-chase/langchain_callback_demo</a>\"\\n      ],\\n      \"text/plain\": [\\n       \"<IPython.core.display.HTML object>\"\\n      ]\\n     },\\n     \"metadata\": {},\\n     \"output_type\": \"display_data\"\\n    },\\n    {\\n     \"data\": {\\n      \"text/html\": [\\n       \" View run at <a href=\\'https://wandb.ai/harrison-chase/langchain_callback_demo/runs/jyxma7hu\\' target=\\\\\"_blank\\\\\">https://wandb.ai/harrison-chase/langchain_callback_demo/runs/jyxma7hu</a>\"\\n      ],\\n      \"text/plain\": [\\n       \"<IPython.core.display.HTML object>\"\\n      ]\\n     },\\n     \"metadata\": {},\\n     \"output_type\": \"display_data\"\\n    }\\n   ],\\n   \"source\": [\\n    \"# SCENARIO 1 - LLM\\\\n\",\\n    \"llm_result = llm.generate([\\\\\"Tell me a joke\\\\\", \\\\\"Tell me a poem\\\\\"] * 3)\\\\n\",\\n    \"wandb_callback.flush_tracker(llm, name=\\\\\"simple_sequential\\\\\")\"\\n   ]\\n  },\\n  {\\n   \"cell_type\": \"code\",\\n   \"execution_count\": 5,\\n   \"metadata\": {\\n    \"id\": \"trxslyb1U28Y\"\\n   },\\n   \"outputs\": [],\\n   \"source\": [\\n    \"from langchain.prompts import PromptTemplate\\\\n\",\\n    \"from langchain.chains import LLMChain\"\\n   ]\\n  },\\n  {\\n   \"cell_type\": \"code\",\\n   \"execution_count\": 6,\\n   \"metadata\": {\\n    \"id\": \"uauQk10SUzF6\"\\n   },\\n   \"outputs\": [\\n    {\\n     \"data\": {\\n      \"text/html\": [\\n       \"Waiting for W&B process to finish... <strong style=\\\\\"color:green\\\\\">(success).</strong>\"\\n      ],\\n      \"text/plain\": [\\n       \"<IPython.core.display.HTML object>\"\\n      ]\\n     },\\n     \"metadata\": {},\\n     \"output_type\": \"display_data\"\\n    },\\n    {\\n     \"data\": {\\n      \"text/html\": [\\n       \" View run <strong style=\\\\\"color:#cdcd00\\\\\">simple_sequential</strong> at: <a href=\\'https://wandb.ai/harrison-chase/langchain_callback_demo/runs/jyxma7hu\\' target=\\\\\"_blank\\\\\">https://wandb.ai/harrison-chase/langchain_callback_demo/runs/jyxma7hu</a><br/>Synced 4 W&B file(s), 2 media file(s), 6 artifact file(s) and 0 other file(s)\"\\n      ],\\n      \"text/plain\": [\\n       \"<IPython.core.display.HTML object>\"\\n      ]\\n     },\\n     \"metadata\": {},\\n     \"output_type\": \"display_data\"\\n    },\\n    {\\n     \"data\": {\\n      \"text/html\": [\\n       \"Find logs at: <code>./wandb/run-20230318_150534-jyxma7hu/logs</code>\"\\n      ],\\n      \"text/plain\": [\\n       \"<IPython.core.display.HTML object>\"\\n      ]\\n     },\\n     \"metadata\": {},\\n     \"output_type\": \"display_data\"\\n    },\\n    {\\n     \"data\": {\\n      \"application/vnd.jupyter.widget-view+json\": {\\n       \"model_id\": \"dbdbf28fb8ed40a3a60218d2e6d1a987\",\\n       \"version_major\": 2,\\n       \"version_minor\": 0\\n      },\\n      \"text/plain\": [\\n       \"VBox(children=(Label(value=\\'Waiting for wandb.init()...\\\\\\\\r\\'), FloatProgress(value=0.016736786816666675, max=1.0…\"\\n      ]\\n     },\\n     \"metadata\": {},\\n     \"output_type\": \"display_data\"\\n    },\\n    {\\n     \"data\": {\\n      \"text/html\": [\\n       \"Tracking run with wandb version 0.14.0\"\\n      ],\\n      \"text/plain\": [\\n       \"<IPython.core.display.HTML object>\"\\n      ]\\n     },\\n     \"metadata\": {},\\n     \"output_type\": \"display_data\"\\n    },\\n    {\\n     \"data\": {\\n      \"text/html\": [\\n       \"Run data is saved locally in <code>/Users/harrisonchase/workplace/langchain/docs/ecosystem/wandb/run-20230318_150550-wzy59zjq</code>\"\\n      ],\\n      \"text/plain\": [\\n       \"<IPython.core.display.HTML object>\"\\n      ]\\n     },\\n     \"metadata\": {},\\n     \"output_type\": \"display_data\"\\n    },\\n    {\\n     \"data\": {\\n      \"text/html\": [\\n       \"Syncing run <strong><a href=\\'https://wandb.ai/harrison-chase/langchain_callback_demo/runs/wzy59zjq\\' target=\\\\\"_blank\\\\\">agent</a></strong> to <a href=\\'https://wandb.ai/harrison-chase/langchain_callback_demo\\' target=\\\\\"_blank\\\\\">Weights & Biases</a> (<a href=\\'https://wandb.me/run\\' target=\\\\\"_blank\\\\\">docs</a>)<br/>\"\\n      ],\\n      \"text/plain\": [\\n       \"<IPython.core.display.HTML object>\"\\n      ]\\n     },\\n     \"metadata\": {},\\n     \"output_type\": \"display_data\"\\n    },\\n    {\\n     \"data\": {\\n      \"text/html\": [\\n       \" View project at <a href=\\'https://wandb.ai/harrison-chase/langchain_callback_demo\\' target=\\\\\"_blank\\\\\">https://wandb.ai/harrison-chase/langchain_callback_demo</a>\"\\n      ],\\n      \"text/plain\": [\\n       \"<IPython.core.display.HTML object>\"\\n      ]\\n     },\\n     \"metadata\": {},\\n     \"output_type\": \"display_data\"\\n    },\\n    {\\n     \"data\": {\\n      \"text/html\": [\\n       \" View run at <a href=\\'https://wandb.ai/harrison-chase/langchain_callback_demo/runs/wzy59zjq\\' target=\\\\\"_blank\\\\\">https://wandb.ai/harrison-chase/langchain_callback_demo/runs/wzy59zjq</a>\"\\n      ],\\n      \"text/plain\": [\\n       \"<IPython.core.display.HTML object>\"\\n      ]\\n     },\\n     \"metadata\": {},\\n     \"output_type\": \"display_data\"\\n    }\\n   ],\\n   \"source\": [\\n    \"# SCENARIO 2 - Chain\\\\n\",\\n    \"template = \\\\\"\\\\\"\\\\\"You are a playwright. Given the title of play, it is your job to write a synopsis for that title.\\\\n\",\\n    \"Title: {title}\\\\n\",\\n    \"Playwright: This is a synopsis for the above play:\\\\\"\\\\\"\\\\\"\\\\n\",\\n    \"prompt_template = PromptTemplate(input_variables=[\\\\\"title\\\\\"], template=template)\\\\n\",\\n    \"synopsis_chain = LLMChain(llm=llm, prompt=prompt_template, callbacks=callbacks)\\\\n\",\\n    \"\\\\n\",\\n    \"test_prompts = [\\\\n\",\\n    \"    {\\\\n\",\\n    \"        \\\\\"title\\\\\": \\\\\"documentary about good video games that push the boundary of game design\\\\\"\\\\n\",\\n    \"    },\\\\n\",\\n    \"    {\\\\\"title\\\\\": \\\\\"cocaine bear vs heroin wolf\\\\\"},\\\\n\",\\n    \"    {\\\\\"title\\\\\": \\\\\"the best in class mlops tooling\\\\\"},\\\\n\",\\n    \"]\\\\n\",\\n    \"synopsis_chain.apply(test_prompts)\\\\n\",\\n    \"wandb_callback.flush_tracker(synopsis_chain, name=\\\\\"agent\\\\\")\"\\n   ]\\n  },\\n  {\\n   \"cell_type\": \"code\",\\n   \"execution_count\": 7,\\n   \"metadata\": {\\n    \"id\": \"_jN73xcPVEpI\"\\n   },\\n   \"outputs\": [],\\n   \"source\": [\\n    \"from langchain.agents import initialize_agent, load_tools\\\\n\",\\n    \"from langchain.agents import AgentType\"\\n   ]\\n  },\\n  {\\n   \"cell_type\": \"code\",\\n   \"execution_count\": 8,\\n   \"metadata\": {\\n    \"id\": \"Gpq4rk6VT9cu\"\\n   },\\n   \"outputs\": [\\n    {\\n     \"name\": \"stdout\",\\n     \"output_type\": \"stream\",\\n     \"text\": [\\n      \"\\\\n\",\\n      \"\\\\n\",\\n      \"\\\\u001b[1m> Entering new AgentExecutor chain...\\\\u001b[0m\\\\n\",\\n      \"\\\\u001b[32;1m\\\\u001b[1;3m I need to find out who Leo DiCaprio\\'s girlfriend is and then calculate her age raised to the 0.43 power.\\\\n\",\\n      \"Action: Search\\\\n\",\\n      \"Action Input: \\\\\"Leo DiCaprio girlfriend\\\\\"\\\\u001b[0m\\\\n\",\\n      \"Observation: \\\\u001b[36;1m\\\\u001b[1;3mDiCaprio had a steady girlfriend in Camila Morrone. He had been with the model turned actress for nearly five years, as they were first said to be dating at the end of 2017. And the now 26-year-old Morrone is no stranger to Hollywood.\\\\u001b[0m\\\\n\",\\n      \"Thought:\\\\u001b[32;1m\\\\u001b[1;3m I need to calculate her age raised to the 0.43 power.\\\\n\",\\n      \"Action: Calculator\\\\n\",\\n      \"Action Input: 26^0.43\\\\u001b[0m\\\\n\",\\n      \"Observation: \\\\u001b[33;1m\\\\u001b[1;3mAnswer: 4.059182145592686\\\\n\",\\n      \"\\\\u001b[0m\\\\n\",\\n      \"Thought:\\\\u001b[32;1m\\\\u001b[1;3m I now know the final answer.\\\\n\",\\n      \"Final Answer: Leo DiCaprio\\'s girlfriend is Camila Morrone and her current age raised to the 0.43 power is 4.059182145592686.\\\\u001b[0m\\\\n\",\\n      \"\\\\n\",\\n      \"\\\\u001b[1m> Finished chain.\\\\u001b[0m\\\\n\"\\n     ]\\n    },\\n    {\\n     \"data\": {\\n      \"text/html\": [\\n       \"Waiting for W&B process to finish... <strong style=\\\\\"color:green\\\\\">(success).</strong>\"\\n      ],\\n      \"text/plain\": [\\n       \"<IPython.core.display.HTML object>\"\\n      ]\\n     },\\n     \"metadata\": {},\\n     \"output_type\": \"display_data\"\\n    },\\n    {\\n     \"data\": {\\n      \"text/html\": [\\n       \" View run <strong style=\\\\\"color:#cdcd00\\\\\">agent</strong> at: <a href=\\'https://wandb.ai/harrison-chase/langchain_callback_demo/runs/wzy59zjq\\' target=\\\\\"_blank\\\\\">https://wandb.ai/harrison-chase/langchain_callback_demo/runs/wzy59zjq</a><br/>Synced 5 W&B file(s), 2 media file(s), 7 artifact file(s) and 0 other file(s)\"\\n      ],\\n      \"text/plain\": [\\n       \"<IPython.core.display.HTML object>\"\\n      ]\\n     },\\n     \"metadata\": {},\\n     \"output_type\": \"display_data\"\\n    },\\n    {\\n     \"data\": {\\n      \"text/html\": [\\n       \"Find logs at: <code>./wandb/run-20230318_150550-wzy59zjq/logs</code>\"\\n      ],\\n      \"text/plain\": [\\n       \"<IPython.core.display.HTML object>\"\\n      ]\\n     },\\n     \"metadata\": {},\\n     \"output_type\": \"display_data\"\\n    }\\n   ],\\n   \"source\": [\\n    \"# SCENARIO 3 - Agent with Tools\\\\n\",\\n    \"tools = load_tools([\\\\\"serpapi\\\\\", \\\\\"llm-math\\\\\"], llm=llm)\\\\n\",\\n    \"agent = initialize_agent(\\\\n\",\\n    \"    tools,\\\\n\",\\n    \"    llm,\\\\n\",\\n    \"    agent=AgentType.ZERO_SHOT_REACT_DESCRIPTION,\\\\n\",\\n    \")\\\\n\",\\n    \"agent.run(\\\\n\",\\n    \"    \\\\\"Who is Leo DiCaprio\\'s girlfriend? What is her current age raised to the 0.43 power?\\\\\",\\\\n\",\\n    \"    callbacks=callbacks,\\\\n\",\\n    \")\\\\n\",\\n    \"wandb_callback.flush_tracker(agent, reset=False, finish=True)\"\\n   ]\\n  },\\n  {\\n   \"cell_type\": \"code\",\\n   \"execution_count\": null,\\n   \"metadata\": {},\\n   \"outputs\": [],\\n   \"source\": []\\n  }\\n ],\\n \"metadata\": {\\n  \"colab\": {\\n   \"provenance\": []\\n  },\\n  \"kernelspec\": {\\n   \"display_name\": \"Python 3 (ipykernel)\",\\n   \"language\": \"python\",\\n   \"name\": \"python3\"\\n  },\\n  \"language_info\": {\\n   \"codemirror_mode\": {\\n    \"name\": \"ipython\",\\n    \"version\": 3\\n   },\\n   \"file_extension\": \".py\",\\n   \"mimetype\": \"text/x-python\",\\n   \"name\": \"python\",\\n   \"nbconvert_exporter\": \"python\",\\n   \"pygments_lexer\": \"ipython3\",\\n   \"version\": \"3.9.1\"\\n  }\\n },\\n \"nbformat\": 4,\\n \"nbformat_minor\": 1\\n}\\n' metadata={'file_path': 'docs/ecosystem/wandb_tracking.ipynb', 'file_name': 'wandb_tracking.ipynb', 'file_type': '.ipynb'}\n"
     ]
    },
    {
     "ename": "TypeError",
     "evalue": "Object of type Document is not JSON serializable",
     "output_type": "error",
     "traceback": [
      "\u001B[0;31m---------------------------------------------------------------------------\u001B[0m",
      "\u001B[0;31mTypeError\u001B[0m                                 Traceback (most recent call last)",
      "Cell \u001B[0;32mIn[25], line 5\u001B[0m\n\u001B[1;32m      1\u001B[0m \u001B[38;5;28;01mimport\u001B[39;00m \u001B[38;5;21;01mjson\u001B[39;00m\n\u001B[1;32m      3\u001B[0m \u001B[38;5;28mprint\u001B[39m(data[\u001B[38;5;241m100\u001B[39m])\n\u001B[0;32m----> 5\u001B[0m json_data \u001B[38;5;241m=\u001B[39m \u001B[43mjson\u001B[49m\u001B[38;5;241;43m.\u001B[39;49m\u001B[43mdumps\u001B[49m\u001B[43m(\u001B[49m\u001B[43mdata\u001B[49m\u001B[43m[\u001B[49m\u001B[38;5;241;43m100\u001B[39;49m\u001B[43m]\u001B[49m\u001B[43m)\u001B[49m\n",
      "File \u001B[0;32m~/anaconda3/lib/python3.10/json/__init__.py:231\u001B[0m, in \u001B[0;36mdumps\u001B[0;34m(obj, skipkeys, ensure_ascii, check_circular, allow_nan, cls, indent, separators, default, sort_keys, **kw)\u001B[0m\n\u001B[1;32m    226\u001B[0m \u001B[38;5;66;03m# cached encoder\u001B[39;00m\n\u001B[1;32m    227\u001B[0m \u001B[38;5;28;01mif\u001B[39;00m (\u001B[38;5;129;01mnot\u001B[39;00m skipkeys \u001B[38;5;129;01mand\u001B[39;00m ensure_ascii \u001B[38;5;129;01mand\u001B[39;00m\n\u001B[1;32m    228\u001B[0m     check_circular \u001B[38;5;129;01mand\u001B[39;00m allow_nan \u001B[38;5;129;01mand\u001B[39;00m\n\u001B[1;32m    229\u001B[0m     \u001B[38;5;28mcls\u001B[39m \u001B[38;5;129;01mis\u001B[39;00m \u001B[38;5;28;01mNone\u001B[39;00m \u001B[38;5;129;01mand\u001B[39;00m indent \u001B[38;5;129;01mis\u001B[39;00m \u001B[38;5;28;01mNone\u001B[39;00m \u001B[38;5;129;01mand\u001B[39;00m separators \u001B[38;5;129;01mis\u001B[39;00m \u001B[38;5;28;01mNone\u001B[39;00m \u001B[38;5;129;01mand\u001B[39;00m\n\u001B[1;32m    230\u001B[0m     default \u001B[38;5;129;01mis\u001B[39;00m \u001B[38;5;28;01mNone\u001B[39;00m \u001B[38;5;129;01mand\u001B[39;00m \u001B[38;5;129;01mnot\u001B[39;00m sort_keys \u001B[38;5;129;01mand\u001B[39;00m \u001B[38;5;129;01mnot\u001B[39;00m kw):\n\u001B[0;32m--> 231\u001B[0m     \u001B[38;5;28;01mreturn\u001B[39;00m \u001B[43m_default_encoder\u001B[49m\u001B[38;5;241;43m.\u001B[39;49m\u001B[43mencode\u001B[49m\u001B[43m(\u001B[49m\u001B[43mobj\u001B[49m\u001B[43m)\u001B[49m\n\u001B[1;32m    232\u001B[0m \u001B[38;5;28;01mif\u001B[39;00m \u001B[38;5;28mcls\u001B[39m \u001B[38;5;129;01mis\u001B[39;00m \u001B[38;5;28;01mNone\u001B[39;00m:\n\u001B[1;32m    233\u001B[0m     \u001B[38;5;28mcls\u001B[39m \u001B[38;5;241m=\u001B[39m JSONEncoder\n",
      "File \u001B[0;32m~/anaconda3/lib/python3.10/json/encoder.py:199\u001B[0m, in \u001B[0;36mJSONEncoder.encode\u001B[0;34m(self, o)\u001B[0m\n\u001B[1;32m    195\u001B[0m         \u001B[38;5;28;01mreturn\u001B[39;00m encode_basestring(o)\n\u001B[1;32m    196\u001B[0m \u001B[38;5;66;03m# This doesn't pass the iterator directly to ''.join() because the\u001B[39;00m\n\u001B[1;32m    197\u001B[0m \u001B[38;5;66;03m# exceptions aren't as detailed.  The list call should be roughly\u001B[39;00m\n\u001B[1;32m    198\u001B[0m \u001B[38;5;66;03m# equivalent to the PySequence_Fast that ''.join() would do.\u001B[39;00m\n\u001B[0;32m--> 199\u001B[0m chunks \u001B[38;5;241m=\u001B[39m \u001B[38;5;28;43mself\u001B[39;49m\u001B[38;5;241;43m.\u001B[39;49m\u001B[43miterencode\u001B[49m\u001B[43m(\u001B[49m\u001B[43mo\u001B[49m\u001B[43m,\u001B[49m\u001B[43m \u001B[49m\u001B[43m_one_shot\u001B[49m\u001B[38;5;241;43m=\u001B[39;49m\u001B[38;5;28;43;01mTrue\u001B[39;49;00m\u001B[43m)\u001B[49m\n\u001B[1;32m    200\u001B[0m \u001B[38;5;28;01mif\u001B[39;00m \u001B[38;5;129;01mnot\u001B[39;00m \u001B[38;5;28misinstance\u001B[39m(chunks, (\u001B[38;5;28mlist\u001B[39m, \u001B[38;5;28mtuple\u001B[39m)):\n\u001B[1;32m    201\u001B[0m     chunks \u001B[38;5;241m=\u001B[39m \u001B[38;5;28mlist\u001B[39m(chunks)\n",
      "File \u001B[0;32m~/anaconda3/lib/python3.10/json/encoder.py:257\u001B[0m, in \u001B[0;36mJSONEncoder.iterencode\u001B[0;34m(self, o, _one_shot)\u001B[0m\n\u001B[1;32m    252\u001B[0m \u001B[38;5;28;01melse\u001B[39;00m:\n\u001B[1;32m    253\u001B[0m     _iterencode \u001B[38;5;241m=\u001B[39m _make_iterencode(\n\u001B[1;32m    254\u001B[0m         markers, \u001B[38;5;28mself\u001B[39m\u001B[38;5;241m.\u001B[39mdefault, _encoder, \u001B[38;5;28mself\u001B[39m\u001B[38;5;241m.\u001B[39mindent, floatstr,\n\u001B[1;32m    255\u001B[0m         \u001B[38;5;28mself\u001B[39m\u001B[38;5;241m.\u001B[39mkey_separator, \u001B[38;5;28mself\u001B[39m\u001B[38;5;241m.\u001B[39mitem_separator, \u001B[38;5;28mself\u001B[39m\u001B[38;5;241m.\u001B[39msort_keys,\n\u001B[1;32m    256\u001B[0m         \u001B[38;5;28mself\u001B[39m\u001B[38;5;241m.\u001B[39mskipkeys, _one_shot)\n\u001B[0;32m--> 257\u001B[0m \u001B[38;5;28;01mreturn\u001B[39;00m \u001B[43m_iterencode\u001B[49m\u001B[43m(\u001B[49m\u001B[43mo\u001B[49m\u001B[43m,\u001B[49m\u001B[43m \u001B[49m\u001B[38;5;241;43m0\u001B[39;49m\u001B[43m)\u001B[49m\n",
      "File \u001B[0;32m~/anaconda3/lib/python3.10/json/encoder.py:179\u001B[0m, in \u001B[0;36mJSONEncoder.default\u001B[0;34m(self, o)\u001B[0m\n\u001B[1;32m    160\u001B[0m \u001B[38;5;28;01mdef\u001B[39;00m \u001B[38;5;21mdefault\u001B[39m(\u001B[38;5;28mself\u001B[39m, o):\n\u001B[1;32m    161\u001B[0m     \u001B[38;5;124;03m\"\"\"Implement this method in a subclass such that it returns\u001B[39;00m\n\u001B[1;32m    162\u001B[0m \u001B[38;5;124;03m    a serializable object for ``o``, or calls the base implementation\u001B[39;00m\n\u001B[1;32m    163\u001B[0m \u001B[38;5;124;03m    (to raise a ``TypeError``).\u001B[39;00m\n\u001B[0;32m   (...)\u001B[0m\n\u001B[1;32m    177\u001B[0m \n\u001B[1;32m    178\u001B[0m \u001B[38;5;124;03m    \"\"\"\u001B[39;00m\n\u001B[0;32m--> 179\u001B[0m     \u001B[38;5;28;01mraise\u001B[39;00m \u001B[38;5;167;01mTypeError\u001B[39;00m(\u001B[38;5;124mf\u001B[39m\u001B[38;5;124m'\u001B[39m\u001B[38;5;124mObject of type \u001B[39m\u001B[38;5;132;01m{\u001B[39;00mo\u001B[38;5;241m.\u001B[39m\u001B[38;5;18m__class__\u001B[39m\u001B[38;5;241m.\u001B[39m\u001B[38;5;18m__name__\u001B[39m\u001B[38;5;132;01m}\u001B[39;00m\u001B[38;5;124m \u001B[39m\u001B[38;5;124m'\u001B[39m\n\u001B[1;32m    180\u001B[0m                     \u001B[38;5;124mf\u001B[39m\u001B[38;5;124m'\u001B[39m\u001B[38;5;124mis not JSON serializable\u001B[39m\u001B[38;5;124m'\u001B[39m)\n",
      "\u001B[0;31mTypeError\u001B[0m: Object of type Document is not JSON serializable"
     ]
    }
   ],
   "source": [
    "print(data[100])"
   ]
  },
  {
   "cell_type": "markdown",
   "metadata": {},
   "source": [
    "## Clone repository from url"
   ]
  },
  {
   "cell_type": "code",
   "execution_count": 5,
   "metadata": {},
   "outputs": [],
   "source": [
    "from langchain.document_loaders import GitLoader"
   ]
  },
  {
   "cell_type": "code",
   "execution_count": 2,
   "metadata": {},
   "outputs": [],
   "source": [
    "loader = GitLoader(\n",
    "    clone_url=\"https://github.com/hwchase17/langchain\",\n",
    "    repo_path=\"./example_data/test_repo2/\",\n",
    "    branch=\"master\",\n",
    ")"
   ]
  },
  {
   "cell_type": "code",
   "execution_count": 10,
   "metadata": {},
   "outputs": [],
   "source": [
    "data = loader.load()"
   ]
  },
  {
   "cell_type": "code",
   "execution_count": 11,
   "metadata": {},
   "outputs": [
    {
     "data": {
      "text/plain": [
       "1074"
      ]
     },
     "execution_count": 11,
     "metadata": {},
     "output_type": "execute_result"
    }
   ],
   "source": [
    "len(data)"
   ]
  },
  {
   "cell_type": "markdown",
   "metadata": {},
   "source": [
    "## Filtering files to load"
   ]
  },
  {
   "cell_type": "code",
   "execution_count": 12,
   "metadata": {},
   "outputs": [],
   "source": [
    "from langchain.document_loaders import GitLoader\n",
    "\n",
    "# eg. loading only python files\n",
    "loader = GitLoader(repo_path=\"./example_data/test_repo1/\", file_filter=lambda file_path: file_path.endswith(\".py\"))"
   ]
  },
  {
   "cell_type": "code",
   "execution_count": null,
   "metadata": {},
   "outputs": [],
   "source": []
  }
 ],
 "metadata": {
  "kernelspec": {
   "display_name": "Python 3 (ipykernel)",
   "language": "python",
   "name": "python3"
  },
  "language_info": {
   "codemirror_mode": {
    "name": "ipython",
    "version": 3
   },
   "file_extension": ".py",
   "mimetype": "text/x-python",
   "name": "python",
   "nbconvert_exporter": "python",
   "pygments_lexer": "ipython3",
   "version": "3.10.6"
  }
 },
 "nbformat": 4,
 "nbformat_minor": 4
}
