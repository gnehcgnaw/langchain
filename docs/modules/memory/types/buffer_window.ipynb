{
 "cells": [
  {
   "cell_type": "markdown",
   "id": "a20c4e38",
   "metadata": {},
   "source": [
    "# ConversationBufferWindowMemory\n",
    "\n",
    "`ConversationBufferWindowMemory` keeps a list of the interactions of the conversation over time. It only uses the last K interactions. This can be useful for keeping a sliding window of the most recent interactions, so the buffer does not get too large\n",
    "\n",
    "Let's first explore the basic functionality of this type of memory."
   ]
  },
  {
   "cell_type": "code",
   "execution_count": 3,
   "id": "1196da3f",
   "metadata": {
    "ExecuteTime": {
     "end_time": "2023-05-04T14:55:33.824738Z",
     "start_time": "2023-05-04T14:55:32.094425Z"
    }
   },
   "outputs": [],
   "source": [
    "from langchain.memory import ConversationBufferWindowMemory"
   ]
  },
  {
   "cell_type": "code",
   "execution_count": 4,
   "id": "2dac7769",
   "metadata": {
    "ExecuteTime": {
     "end_time": "2023-05-04T14:55:41.586622Z",
     "start_time": "2023-05-04T14:55:41.581136Z"
    }
   },
   "outputs": [],
   "source": [
    "memory = ConversationBufferWindowMemory( k=1)\n",
    "memory.save_context({\"input\": \"hi\"}, {\"ouput\": \"whats up\"})\n",
    "memory.save_context({\"input\": \"not much you\"}, {\"ouput\": \"not much\"})"
   ]
  },
  {
   "cell_type": "code",
   "execution_count": 5,
   "id": "0c034a90",
   "metadata": {
    "ExecuteTime": {
     "end_time": "2023-05-04T14:55:44.901078Z",
     "start_time": "2023-05-04T14:55:44.885052Z"
    }
   },
   "outputs": [
    {
     "data": {
      "text/plain": "{'history': 'Human: not much you\\nAI: not much'}"
     },
     "execution_count": 5,
     "metadata": {},
     "output_type": "execute_result"
    }
   ],
   "source": [
    "memory.load_memory_variables({})"
   ]
  },
  {
   "cell_type": "markdown",
   "id": "8c5cce1d",
   "metadata": {},
   "source": [
    "We can also get the history as a list of messages (this is useful if you are using this with a chat model)."
   ]
  },
  {
   "cell_type": "code",
   "execution_count": 8,
   "id": "9b15b427",
   "metadata": {},
   "outputs": [],
   "source": [
    "memory = ConversationBufferWindowMemory( k=1, return_messages=True)\n",
    "memory.save_context({\"input\": \"hi\"}, {\"ouput\": \"whats up\"})\n",
    "memory.save_context({\"input\": \"not much you\"}, {\"ouput\": \"not much\"})"
   ]
  },
  {
   "cell_type": "code",
   "execution_count": 9,
   "id": "3bb47191",
   "metadata": {},
   "outputs": [
    {
     "data": {
      "text/plain": [
       "{'history': [HumanMessage(content='not much you', additional_kwargs={}),\n",
       "  AIMessage(content='not much', additional_kwargs={})]}"
      ]
     },
     "execution_count": 9,
     "metadata": {},
     "output_type": "execute_result"
    }
   ],
   "source": [
    "memory.load_memory_variables({})"
   ]
  },
  {
   "cell_type": "markdown",
   "id": "a95af04c",
   "metadata": {},
   "source": [
    "## Using in a chain\n",
    "Let's walk through an example, again setting `verbose=True` so we can see the prompt."
   ]
  },
  {
   "cell_type": "code",
   "execution_count": 7,
   "id": "0b9da4cd",
   "metadata": {
    "ExecuteTime": {
     "end_time": "2023-05-04T14:58:37.335210Z",
     "start_time": "2023-05-04T14:58:26.167403Z"
    }
   },
   "outputs": [
    {
     "name": "stdout",
     "output_type": "stream",
     "text": [
      "\n",
      "\n",
      "\u001B[1m> Entering new ConversationChain chain...\u001B[0m\n",
      "Prompt after formatting:\n",
      "\u001B[32;1m\u001B[1;3mThe following is a friendly conversation between a human and an AI. The AI is talkative and provides lots of specific details from its context. If the AI does not know the answer to a question, it truthfully says it does not know.\n",
      "\n",
      "Current conversation:\n",
      "\n",
      "Human: 你好，有什么事吗？\n",
      "AI:\u001B[0m\n",
      "\n",
      "\u001B[1m> Finished chain.\u001B[0m\n"
     ]
    },
    {
     "data": {
      "text/plain": "' 你好！很高兴见到你！我可以为你做什么？我可以提供信息，提供建议，或者帮助你解决问题。'"
     },
     "execution_count": 7,
     "metadata": {},
     "output_type": "execute_result"
    }
   ],
   "source": [
    "from langchain.llms import OpenAI\n",
    "from langchain.chains import ConversationChain\n",
    "conversation_with_summary = ConversationChain(\n",
    "    llm=OpenAI(temperature=0), \n",
    "    # We set a low k=2, to only keep the last 2 interactions in memory\n",
    "    memory=ConversationBufferWindowMemory(k=2), \n",
    "    verbose=True\n",
    ")\n",
    "conversation_with_summary.predict(input=\"你好，有什么事吗？\")"
   ]
  },
  {
   "cell_type": "code",
   "execution_count": 8,
   "id": "90f73431",
   "metadata": {
    "ExecuteTime": {
     "end_time": "2023-05-04T15:00:04.417705Z",
     "start_time": "2023-05-04T14:59:55.144283Z"
    }
   },
   "outputs": [
    {
     "name": "stdout",
     "output_type": "stream",
     "text": [
      "\n",
      "\n",
      "\u001B[1m> Entering new ConversationChain chain...\u001B[0m\n",
      "Prompt after formatting:\n",
      "\u001B[32;1m\u001B[1;3mThe following is a friendly conversation between a human and an AI. The AI is talkative and provides lots of specific details from its context. If the AI does not know the answer to a question, it truthfully says it does not know.\n",
      "\n",
      "Current conversation:\n",
      "Human: 你好，有什么事吗？\n",
      "AI:  你好！很高兴见到你！我可以为你做什么？我可以提供信息，提供建议，或者帮助你解决问题。\n",
      "Human: 他们有什么问题？\n",
      "AI:\u001B[0m\n",
      "\n",
      "\u001B[1m> Finished chain.\u001B[0m\n"
     ]
    },
    {
     "data": {
      "text/plain": "' 对不起，我不知道。你可以更具体地描述一下你的问题，我可以尝试帮助你。'"
     },
     "execution_count": 8,
     "metadata": {},
     "output_type": "execute_result"
    }
   ],
   "source": [
    "conversation_with_summary.predict(input=\"他们有什么问题？\")"
   ]
  },
  {
   "cell_type": "code",
   "execution_count": 9,
   "id": "cbb499e7",
   "metadata": {
    "ExecuteTime": {
     "end_time": "2023-05-04T15:00:53.200713Z",
     "start_time": "2023-05-04T15:00:45.040647Z"
    }
   },
   "outputs": [
    {
     "name": "stdout",
     "output_type": "stream",
     "text": [
      "\n",
      "\n",
      "\u001B[1m> Entering new ConversationChain chain...\u001B[0m\n",
      "Prompt after formatting:\n",
      "\u001B[32;1m\u001B[1;3mThe following is a friendly conversation between a human and an AI. The AI is talkative and provides lots of specific details from its context. If the AI does not know the answer to a question, it truthfully says it does not know.\n",
      "\n",
      "Current conversation:\n",
      "Human: 你好，有什么事吗？\n",
      "AI:  你好！很高兴见到你！我可以为你做什么？我可以提供信息，提供建议，或者帮助你解决问题。\n",
      "Human: 他们有什么问题？\n",
      "AI:  对不起，我不知道。你可以更具体地描述一下你的问题，我可以尝试帮助你。\n",
      "Human: 进展顺利吗？\n",
      "AI:\u001B[0m\n",
      "\n",
      "\u001B[1m> Finished chain.\u001B[0m\n"
     ]
    },
    {
     "data": {
      "text/plain": "' 对不起，我不知道。你可以更具体地描述一下你的问题，我可以尝试帮助你。'"
     },
     "execution_count": 9,
     "metadata": {},
     "output_type": "execute_result"
    }
   ],
   "source": [
    "conversation_with_summary.predict(input=\"进展顺利吗？\")"
   ]
  },
  {
   "cell_type": "code",
   "execution_count": 10,
   "id": "0d209cfe",
   "metadata": {
    "ExecuteTime": {
     "end_time": "2023-05-04T15:01:33.537145Z",
     "start_time": "2023-05-04T15:01:24.556576Z"
    }
   },
   "outputs": [
    {
     "name": "stdout",
     "output_type": "stream",
     "text": [
      "\n",
      "\n",
      "\u001B[1m> Entering new ConversationChain chain...\u001B[0m\n",
      "Prompt after formatting:\n",
      "\u001B[32;1m\u001B[1;3mThe following is a friendly conversation between a human and an AI. The AI is talkative and provides lots of specific details from its context. If the AI does not know the answer to a question, it truthfully says it does not know.\n",
      "\n",
      "Current conversation:\n",
      "Human: 他们有什么问题？\n",
      "AI:  对不起，我不知道。你可以更具体地描述一下你的问题，我可以尝试帮助你。\n",
      "Human: 进展顺利吗？\n",
      "AI:  对不起，我不知道。你可以更具体地描述一下你的问题，我可以尝试帮助你。\n",
      "Human: 解决方案是什么？\n",
      "AI:\u001B[0m\n",
      "\n",
      "\u001B[1m> Finished chain.\u001B[0m\n"
     ]
    },
    {
     "data": {
      "text/plain": "' 对不起，我不知道。你可以更具体地描述一下你的问题，我可以尝试帮助你。'"
     },
     "execution_count": 10,
     "metadata": {},
     "output_type": "execute_result"
    }
   ],
   "source": [
    "# Notice here that the first interaction does not appear.\n",
    "conversation_with_summary.predict(input=\"解决方案是什么？\")"
   ]
  },
  {
   "cell_type": "markdown",
   "source": [
    "![202305042306798.png](https://s2.loli.net/2023/05/04/geowAHJspzYaWx1.png)"
   ],
   "metadata": {
    "collapsed": false
   }
  }
 ],
 "metadata": {
  "kernelspec": {
   "display_name": "Python 3 (ipykernel)",
   "language": "python",
   "name": "python3"
  },
  "language_info": {
   "codemirror_mode": {
    "name": "ipython",
    "version": 3
   },
   "file_extension": ".py",
   "mimetype": "text/x-python",
   "name": "python",
   "nbconvert_exporter": "python",
   "pygments_lexer": "ipython3",
   "version": "3.9.1"
  }
 },
 "nbformat": 4,
 "nbformat_minor": 5
}
