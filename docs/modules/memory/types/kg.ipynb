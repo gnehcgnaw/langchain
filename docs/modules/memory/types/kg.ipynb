{
 "cells": [
  {
   "cell_type": "markdown",
   "id": "44c9933a",
   "metadata": {},
   "source": [
    "# Conversation Knowledge Graph Memory\n",
    "\n",
    "This type of memory uses a knowledge graph to recreate memory.\n",
    "\n",
    "Let's first walk through how to use the utilities"
   ]
  },
  {
   "cell_type": "code",
   "execution_count": 1,
   "id": "f71f40ba",
   "metadata": {
    "ExecuteTime": {
     "end_time": "2023-05-04T15:15:16.572054Z",
     "start_time": "2023-05-04T15:15:15.095343Z"
    }
   },
   "outputs": [],
   "source": [
    "from langchain.memory import ConversationKGMemory\n",
    "from langchain.llms import OpenAI"
   ]
  },
  {
   "cell_type": "code",
   "execution_count": 2,
   "id": "2f4a3c85",
   "metadata": {
    "ExecuteTime": {
     "end_time": "2023-05-04T15:15:33.919008Z",
     "start_time": "2023-05-04T15:15:29.180710Z"
    }
   },
   "outputs": [],
   "source": [
    "llm = OpenAI(temperature=0)\n",
    "memory = ConversationKGMemory(llm=llm)\n",
    "memory.save_context({\"input\": \"对张三说你好\"}, {\"ouput\": \"谁是张三\"})\n",
    "memory.save_context({\"input\": \"张三是一个朋友\"}, {\"ouput\": \"好的\"})"
   ]
  },
  {
   "cell_type": "code",
   "execution_count": 3,
   "id": "72283b4f",
   "metadata": {
    "ExecuteTime": {
     "end_time": "2023-05-04T15:15:38.456891Z",
     "start_time": "2023-05-04T15:15:36.149927Z"
    }
   },
   "outputs": [
    {
     "data": {
      "text/plain": "{'history': 'On 张三: 张三 是 一个朋友.'}"
     },
     "execution_count": 3,
     "metadata": {},
     "output_type": "execute_result"
    }
   ],
   "source": [
    "memory.load_memory_variables({\"input\": '谁是张三'})"
   ]
  },
  {
   "cell_type": "markdown",
   "id": "0c8ff11e",
   "metadata": {},
   "source": [
    "We can also get the history as a list of messages (this is useful if you are using this with a chat model)."
   ]
  },
  {
   "cell_type": "code",
   "execution_count": 13,
   "id": "44df43af",
   "metadata": {
    "ExecuteTime": {
     "end_time": "2023-05-04T15:27:36.333946Z",
     "start_time": "2023-05-04T15:27:23.479738Z"
    }
   },
   "outputs": [],
   "source": [
    "memory = ConversationKGMemory(llm=llm, return_messages=True)\n",
    "memory.save_context({\"input\": \"谢霆锋是张柏芝的什么？\"}, {\"ouput\": \"前夫\"})\n",
    "memory.save_context({\"input\": \"张柏芝是陈冠希的什么？\"}, {\"ouput\": \"情人\"})"
   ]
  },
  {
   "cell_type": "code",
   "execution_count": 17,
   "id": "4726b1c8",
   "metadata": {
    "ExecuteTime": {
     "end_time": "2023-05-04T15:33:44.761589Z",
     "start_time": "2023-05-04T15:33:41.207928Z"
    }
   },
   "outputs": [
    {
     "data": {
      "text/plain": "{'history': [SystemMessage(content='On 谢霆锋: 谢霆锋 is 前夫) of (张柏芝.', additional_kwargs={}),\n  SystemMessage(content='On 张柏芝: 张柏芝 是 陈冠希的情人.', additional_kwargs={})]}"
     },
     "execution_count": 17,
     "metadata": {},
     "output_type": "execute_result"
    }
   ],
   "source": [
    "memory.load_memory_variables({\"input\": '张柏芝的情人是谁？'})"
   ]
  },
  {
   "cell_type": "markdown",
   "id": "dc956b0e",
   "metadata": {},
   "source": [
    "We can also more modularly get current entities from a new message (will use previous messages as context.)"
   ]
  },
  {
   "cell_type": "code",
   "execution_count": 18,
   "id": "36331ca5",
   "metadata": {
    "ExecuteTime": {
     "end_time": "2023-05-04T15:34:15.521033Z",
     "start_time": "2023-05-04T15:34:11.951101Z"
    }
   },
   "outputs": [
    {
     "data": {
      "text/plain": "['陈冠希', '张柏芝', '谢霆锋']"
     },
     "execution_count": 18,
     "metadata": {},
     "output_type": "execute_result"
    }
   ],
   "source": [
    "memory.get_current_entities(\"陈冠希的情人是谁？\")"
   ]
  },
  {
   "cell_type": "markdown",
   "id": "e8749134",
   "metadata": {},
   "source": [
    "We can also more modularly get knowledge triplets from a new message (will use previous messages as context.)"
   ]
  },
  {
   "cell_type": "code",
   "execution_count": 19,
   "id": "b02d44db",
   "metadata": {
    "ExecuteTime": {
     "end_time": "2023-05-04T15:34:37.397470Z",
     "start_time": "2023-05-04T15:34:32.717931Z"
    }
   },
   "outputs": [
    {
     "data": {
      "text/plain": "[KnowledgeTriple(subject='Chen Guanxi', predicate='has', object_='Zhang Baozhi'),\n KnowledgeTriple(subject='Zhang Baozhi', predicate='is', object_=\"Chen Guanxi's lover\")]"
     },
     "execution_count": 19,
     "metadata": {},
     "output_type": "execute_result"
    }
   ],
   "source": [
    "memory.get_knowledge_triplets(\"陈冠希的情人是谁？\")"
   ]
  },
  {
   "cell_type": "markdown",
   "id": "f7a02ef3",
   "metadata": {},
   "source": [
    "## Using in a chain\n",
    "Let's now use this in a chain!"
   ]
  },
  {
   "cell_type": "code",
   "execution_count": 29,
   "id": "b462baf1",
   "metadata": {
    "ExecuteTime": {
     "end_time": "2023-05-04T15:48:48.877251Z",
     "start_time": "2023-05-04T15:48:48.858059Z"
    }
   },
   "outputs": [],
   "source": [
    "llm = OpenAI(temperature=0)\n",
    "from langchain.prompts.prompt import PromptTemplate\n",
    "from langchain.chains import ConversationChain\n",
    "\n",
    "template = \"\"\"\n",
    "以下是人类和AI之间友好的对话。\n",
    "AI很健谈，并从其上下文中提供了很多具体的细节。\n",
    "如果 AI 不知道问题的答案，它会诚实地说出来。\n",
    "AI 仅使用“相关信息”部分中包含的信息，不会产生幻觉。\n",
    "\n",
    "相关信息：\n",
    "\n",
    "{history}\n",
    "\n",
    "对话：\n",
    "人类：{input}\n",
    "AI:\"\"\"\n",
    "prompt = PromptTemplate(\n",
    "    input_variables=[\"history\", \"input\"], template=template\n",
    ")\n",
    "conversation_with_kg = ConversationChain(\n",
    "    llm=llm, \n",
    "    verbose=True, \n",
    "    prompt=prompt,\n",
    "    memory=ConversationKGMemory(llm=llm,k=2)\n",
    ")"
   ]
  },
  {
   "cell_type": "code",
   "execution_count": 30,
   "id": "97efaf38",
   "metadata": {
    "ExecuteTime": {
     "end_time": "2023-05-04T15:49:07.113911Z",
     "start_time": "2023-05-04T15:48:53.851453Z"
    }
   },
   "outputs": [
    {
     "name": "stdout",
     "output_type": "stream",
     "text": [
      "\n",
      "\n",
      "\u001B[1m> Entering new ConversationChain chain...\u001B[0m\n",
      "Prompt after formatting:\n",
      "\u001B[32;1m\u001B[1;3m\n",
      "以下是人类和AI之间友好的对话。\n",
      "AI很健谈，并从其上下文中提供了很多具体的细节。\n",
      "如果 AI 不知道问题的答案，它会诚实地说出来。\n",
      "AI 仅使用“相关信息”部分中包含的信息，不会产生幻觉。\n",
      "\n",
      "相关信息：\n",
      "\n",
      "\n",
      "\n",
      "对话：\n",
      "人类：张柏芝的情人是陈冠希\n",
      "AI:\u001B[0m\n",
      "\n",
      "\u001B[1m> Finished chain.\u001B[0m\n"
     ]
    },
    {
     "data": {
      "text/plain": "' 是的，据报道，张柏芝和陈冠希曾于2008年经历过一段恋情。'"
     },
     "execution_count": 30,
     "metadata": {},
     "output_type": "execute_result"
    }
   ],
   "source": [
    "conversation_with_kg.predict(input=\"张柏芝的情人是陈冠希\")"
   ]
  },
  {
   "cell_type": "code",
   "execution_count": 31,
   "id": "55b5bcad",
   "metadata": {
    "ExecuteTime": {
     "end_time": "2023-05-04T15:49:28.723344Z",
     "start_time": "2023-05-04T15:49:11.867860Z"
    }
   },
   "outputs": [
    {
     "name": "stdout",
     "output_type": "stream",
     "text": [
      "\n",
      "\n",
      "\u001B[1m> Entering new ConversationChain chain...\u001B[0m\n",
      "Prompt after formatting:\n",
      "\u001B[32;1m\u001B[1;3m\n",
      "以下是人类和AI之间友好的对话。\n",
      "AI很健谈，并从其上下文中提供了很多具体的细节。\n",
      "如果 AI 不知道问题的答案，它会诚实地说出来。\n",
      "AI 仅使用“相关信息”部分中包含的信息，不会产生幻觉。\n",
      "\n",
      "相关信息：\n",
      "\n",
      "On 张柏芝: 张柏芝 的情人是 陈冠希.\n",
      "\n",
      "对话：\n",
      "人类：谢霆锋是张柏芝老公\n",
      "AI:\u001B[0m\n",
      "\n",
      "\u001B[1m> Finished chain.\u001B[0m\n"
     ]
    },
    {
     "data": {
      "text/plain": "' 不，谢霆锋不是张柏芝的老公。据我所知，张柏芝的情人是陈冠希。'"
     },
     "execution_count": 31,
     "metadata": {},
     "output_type": "execute_result"
    }
   ],
   "source": [
    "conversation_with_kg.predict(input=\"谢霆锋是张柏芝老公\")"
   ]
  },
  {
   "cell_type": "code",
   "execution_count": 32,
   "id": "9981e219",
   "metadata": {
    "ExecuteTime": {
     "end_time": "2023-05-04T15:49:51.833855Z",
     "start_time": "2023-05-04T15:49:35.948977Z"
    }
   },
   "outputs": [
    {
     "name": "stdout",
     "output_type": "stream",
     "text": [
      "\n",
      "\n",
      "\u001B[1m> Entering new ConversationChain chain...\u001B[0m\n",
      "Prompt after formatting:\n",
      "\u001B[32;1m\u001B[1;3m\n",
      "以下是人类和AI之间友好的对话。\n",
      "AI很健谈，并从其上下文中提供了很多具体的细节。\n",
      "如果 AI 不知道问题的答案，它会诚实地说出来。\n",
      "AI 仅使用“相关信息”部分中包含的信息，不会产生幻觉。\n",
      "\n",
      "相关信息：\n",
      "\n",
      "On 张柏芝: 张柏芝 的情人 陈冠希.\n",
      "On 谢霆锋: 谢霆锋 不是 张柏芝的老公.\n",
      "\n",
      "对话：\n",
      "人类：谢霆锋和陈冠希是什么关系？\n",
      "AI:\u001B[0m\n",
      "\n",
      "\u001B[1m> Finished chain.\u001B[0m\n"
     ]
    },
    {
     "data": {
      "text/plain": "' 谢霆锋不是张柏芝的老公，但他们曾经是情侣。'"
     },
     "execution_count": 32,
     "metadata": {},
     "output_type": "execute_result"
    }
   ],
   "source": [
    "conversation_with_kg.predict(input=\"谢霆锋和陈冠希是什么关系？\")"
   ]
  },
  {
   "cell_type": "code",
   "execution_count": 34,
   "id": "8c09a239",
   "metadata": {
    "ExecuteTime": {
     "end_time": "2023-05-04T15:52:42.422720Z",
     "start_time": "2023-05-04T15:52:40.031025Z"
    }
   },
   "outputs": [
    {
     "data": {
      "text/plain": "[KnowledgeTriple(subject='Chen Guanxi', predicate='has a partner', object_='Xie Tingfeng')]"
     },
     "execution_count": 34,
     "metadata": {},
     "output_type": "execute_result"
    }
   ],
   "source": [
    "conversation_with_kg.memory.get_knowledge_triplets(\"陈冠希的情人是谁？\")"
   ]
  }
 ],
 "metadata": {
  "kernelspec": {
   "display_name": "Python 3 (ipykernel)",
   "language": "python",
   "name": "python3"
  },
  "language_info": {
   "codemirror_mode": {
    "name": "ipython",
    "version": 3
   },
   "file_extension": ".py",
   "mimetype": "text/x-python",
   "name": "python",
   "nbconvert_exporter": "python",
   "pygments_lexer": "ipython3",
   "version": "3.9.1"
  }
 },
 "nbformat": 4,
 "nbformat_minor": 5
}
