{
 "cells": [
  {
   "cell_type": "markdown",
   "id": "46196aa3",
   "metadata": {},
   "source": [
    "# ConversationBufferMemory\n",
    "\n",
    "This notebook shows how to use `ConversationBufferMemory`. This memory allows for storing of messages and then extracts the messages in a variable.\n",
    "\n",
    "We can first extract it as a string."
   ]
  },
  {
   "cell_type": "code",
   "execution_count": 2,
   "id": "3bac84f3",
   "metadata": {
    "ExecuteTime": {
     "end_time": "2023-05-05T05:18:30.279467Z",
     "start_time": "2023-05-05T05:18:30.264751Z"
    }
   },
   "outputs": [],
   "source": [
    "from langchain.memory import ConversationBufferMemory"
   ]
  },
  {
   "cell_type": "code",
   "execution_count": 3,
   "id": "cef35e7f",
   "metadata": {
    "ExecuteTime": {
     "end_time": "2023-05-05T05:18:32.765479Z",
     "start_time": "2023-05-05T05:18:32.762036Z"
    }
   },
   "outputs": [],
   "source": [
    "# memory_key is the key that the memory is stored under\n",
    "#\n",
    "memory = ConversationBufferMemory(memory_key=\"chat\",human_prefix='WHuman: ',ai_prefix='CAI: ')\n",
    "# input is the message from the user, output is the message from the AI\n",
    "memory.save_context(inputs={\"input\": \"hi\"}, outputs={\"output\": \"whats up\"})"
   ]
  },
  {
   "cell_type": "code",
   "execution_count": 4,
   "id": "2c9b39af",
   "metadata": {
    "ExecuteTime": {
     "end_time": "2023-05-05T05:18:35.984378Z",
     "start_time": "2023-05-05T05:18:35.965913Z"
    }
   },
   "outputs": [
    {
     "data": {
      "text/plain": "{'chat': 'WHuman: : hi\\nCAI: : whats up'}"
     },
     "execution_count": 4,
     "metadata": {},
     "output_type": "execute_result"
    }
   ],
   "source": [
    "memory.load_memory_variables({})"
   ]
  },
  {
   "cell_type": "markdown",
   "id": "567f7c16",
   "metadata": {},
   "source": [
    "We can also get the history as a list of messages (this is useful if you are using this with a chat model)."
   ]
  },
  {
   "cell_type": "code",
   "execution_count": 36,
   "id": "a481a415",
   "metadata": {
    "ExecuteTime": {
     "end_time": "2023-05-04T09:55:44.960927Z",
     "start_time": "2023-05-04T09:55:44.957375Z"
    }
   },
   "outputs": [],
   "source": [
    "memory = ConversationBufferMemory(return_messages=True,memory_key=\"chat\")\n",
    "memory.save_context({\"input\": \"hi\"}, {\"ouput\": \"whats up\"})"
   ]
  },
  {
   "cell_type": "code",
   "execution_count": 38,
   "id": "86a56348",
   "metadata": {},
   "outputs": [
    {
     "data": {
      "text/plain": "{'chat': [HumanMessage(content='hi', additional_kwargs={}, example=False),\n  AIMessage(content='whats up', additional_kwargs={}, example=False)]}"
     },
     "execution_count": 38,
     "metadata": {},
     "output_type": "execute_result"
    }
   ],
   "source": [
    "# memory.load_memory_variables({\"name\": \"John\", \"age\": 30, \"city\": \"New York\"})  目前{}中没有参与逻辑\n",
    "memory.load_memory_variables({})"
   ]
  },
  {
   "cell_type": "markdown",
   "id": "d051c1da",
   "metadata": {},
   "source": [
    "## Using in a chain\n",
    "Finally, let's take a look at using this in a chain (setting `verbose=True` so we can see the prompt)."
   ]
  },
  {
   "cell_type": "code",
   "execution_count": 39,
   "id": "54301321",
   "metadata": {
    "ExecuteTime": {
     "end_time": "2023-05-04T09:58:06.677939Z",
     "start_time": "2023-05-04T09:58:06.637494Z"
    }
   },
   "outputs": [],
   "source": [
    "from langchain.llms import OpenAI\n",
    "from langchain.chains import ConversationChain\n",
    "\n",
    "\n",
    "llm = OpenAI(temperature=0)\n",
    "conversation = ConversationChain(\n",
    "    llm=llm, \n",
    "    verbose=True, \n",
    "    memory=ConversationBufferMemory()\n",
    ")"
   ]
  },
  {
   "cell_type": "code",
   "execution_count": 40,
   "id": "ae046bff",
   "metadata": {
    "ExecuteTime": {
     "end_time": "2023-05-04T09:58:12.462323Z",
     "start_time": "2023-05-04T09:58:09.302680Z"
    }
   },
   "outputs": [
    {
     "name": "stdout",
     "output_type": "stream",
     "text": [
      "\n",
      "\n",
      "\u001B[1m> Entering new ConversationChain chain...\u001B[0m\n",
      "Prompt after formatting:\n",
      "\u001B[32;1m\u001B[1;3mThe following is a friendly conversation between a human and an AI. The AI is talkative and provides lots of specific details from its context. If the AI does not know the answer to a question, it truthfully says it does not know.\n",
      "\n",
      "Current conversation:\n",
      "\n",
      "Human: Hi there!\n",
      "AI:\u001B[0m\n",
      "\n",
      "\u001B[1m> Finished chain.\u001B[0m\n"
     ]
    },
    {
     "data": {
      "text/plain": "\" Hi there! It's nice to meet you. How can I help you today?\""
     },
     "execution_count": 40,
     "metadata": {},
     "output_type": "execute_result"
    }
   ],
   "source": [
    "conversation.predict(input=\"Hi there!\")"
   ]
  },
  {
   "cell_type": "code",
   "execution_count": 41,
   "id": "d8e2a6ff",
   "metadata": {
    "ExecuteTime": {
     "end_time": "2023-05-04T09:58:49.362660Z",
     "start_time": "2023-05-04T09:58:44.411380Z"
    }
   },
   "outputs": [
    {
     "name": "stdout",
     "output_type": "stream",
     "text": [
      "\n",
      "\n",
      "\u001B[1m> Entering new ConversationChain chain...\u001B[0m\n",
      "Prompt after formatting:\n",
      "\u001B[32;1m\u001B[1;3mThe following is a friendly conversation between a human and an AI. The AI is talkative and provides lots of specific details from its context. If the AI does not know the answer to a question, it truthfully says it does not know.\n",
      "\n",
      "Current conversation:\n",
      "Human: Hi there!\n",
      "AI:  Hi there! It's nice to meet you. How can I help you today?\n",
      "Human: I'm doing well! Just having a conversation with an AI.\n",
      "AI:\u001B[0m\n",
      "\n",
      "\u001B[1m> Finished chain.\u001B[0m\n"
     ]
    },
    {
     "data": {
      "text/plain": "\" That's great! It's always nice to have a conversation with someone new. What would you like to talk about?\""
     },
     "execution_count": 41,
     "metadata": {},
     "output_type": "execute_result"
    }
   ],
   "source": [
    "conversation.predict(input=\"I'm doing well! Just having a conversation with an AI.\")"
   ]
  },
  {
   "cell_type": "code",
   "execution_count": 42,
   "id": "15eda316",
   "metadata": {
    "ExecuteTime": {
     "end_time": "2023-05-04T09:59:28.471595Z",
     "start_time": "2023-05-04T09:59:23.632125Z"
    }
   },
   "outputs": [
    {
     "name": "stdout",
     "output_type": "stream",
     "text": [
      "\n",
      "\n",
      "\u001B[1m> Entering new ConversationChain chain...\u001B[0m\n",
      "Prompt after formatting:\n",
      "\u001B[32;1m\u001B[1;3mThe following is a friendly conversation between a human and an AI. The AI is talkative and provides lots of specific details from its context. If the AI does not know the answer to a question, it truthfully says it does not know.\n",
      "\n",
      "Current conversation:\n",
      "Human: Hi there!\n",
      "AI:  Hi there! It's nice to meet you. How can I help you today?\n",
      "Human: I'm doing well! Just having a conversation with an AI.\n",
      "AI:  That's great! It's always nice to have a conversation with someone new. What would you like to talk about?\n",
      "Human: Tell me about yourself.\n",
      "AI:\u001B[0m\n",
      "\n",
      "\u001B[1m> Finished chain.\u001B[0m\n"
     ]
    },
    {
     "data": {
      "text/plain": "\" Sure! I'm an AI created to help people with their everyday tasks. I'm programmed to understand natural language and provide helpful information. I'm also constantly learning and updating my knowledge base so I can provide more accurate and helpful answers.\""
     },
     "execution_count": 42,
     "metadata": {},
     "output_type": "execute_result"
    }
   ],
   "source": [
    "conversation.predict(input=\"Tell me about yourself.\")"
   ]
  },
  {
   "cell_type": "markdown",
   "id": "bd0146c2",
   "metadata": {},
   "source": [
    "And that's it for the getting started! There are plenty of different types of memory, check out our examples to see them all"
   ]
  },
  {
   "cell_type": "code",
   "execution_count": null,
   "id": "447c138d",
   "metadata": {},
   "outputs": [],
   "source": []
  }
 ],
 "metadata": {
  "kernelspec": {
   "display_name": "Python 3 (ipykernel)",
   "language": "python",
   "name": "python3"
  },
  "language_info": {
   "codemirror_mode": {
    "name": "ipython",
    "version": 3
   },
   "file_extension": ".py",
   "mimetype": "text/x-python",
   "name": "python",
   "nbconvert_exporter": "python",
   "pygments_lexer": "ipython3",
   "version": "3.9.1"
  }
 },
 "nbformat": 4,
 "nbformat_minor": 5
}
